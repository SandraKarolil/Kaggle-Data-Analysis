{
 "cells": [
  {
   "cell_type": "markdown",
   "metadata": {},
   "source": [
    "# Zomato Data Analysis "
   ]
  },
  {
   "cell_type": "markdown",
   "metadata": {},
   "source": [
    "Zomato dataset is to get a fair idea about the factors affecting the establishment of different types of restaurant at different places in Bengaluru, aggregate rating of each restaurant, Bengaluru being one such city that has more than 12,000 restaurants with restaurants serving dishes from all over the world. \n",
    "\n",
    "It will be helpful for new restaurants in deciding their theme, menus, cuisine, cost etc for a particular location. It also aims at finding similarity between neighborhoods of Bengaluru on the basis of food. "
   ]
  },
  {
   "cell_type": "code",
   "execution_count": 2,
   "metadata": {},
   "outputs": [],
   "source": [
    "import pandas as pd\n",
    "import seaborn as sns\n",
    "import matplotlib.pyplot as plt\n",
    "import numpy as np"
   ]
  },
  {
   "cell_type": "markdown",
   "metadata": {},
   "source": [
    "# Read data from csv file"
   ]
  },
  {
   "cell_type": "code",
   "execution_count": 3,
   "metadata": {},
   "outputs": [],
   "source": [
    "data = pd.read_csv('zomato.csv')"
   ]
  },
  {
   "cell_type": "markdown",
   "metadata": {},
   "source": [
    "# Basic Understanding of data"
   ]
  },
  {
   "cell_type": "code",
   "execution_count": 4,
   "metadata": {},
   "outputs": [
    {
     "data": {
      "text/plain": [
       "(51717, 17)"
      ]
     },
     "execution_count": 4,
     "metadata": {},
     "output_type": "execute_result"
    }
   ],
   "source": [
    "# Dimension of data\n",
    "data.shape"
   ]
  },
  {
   "cell_type": "code",
   "execution_count": 5,
   "metadata": {},
   "outputs": [
    {
     "data": {
      "text/plain": [
       "url                            object\n",
       "address                        object\n",
       "name                           object\n",
       "online_order                   object\n",
       "book_table                     object\n",
       "rate                           object\n",
       "votes                           int64\n",
       "phone                          object\n",
       "location                       object\n",
       "rest_type                      object\n",
       "dish_liked                     object\n",
       "cuisines                       object\n",
       "approx_cost(for two people)    object\n",
       "reviews_list                   object\n",
       "menu_item                      object\n",
       "listed_in(type)                object\n",
       "listed_in(city)                object\n",
       "dtype: object"
      ]
     },
     "execution_count": 5,
     "metadata": {},
     "output_type": "execute_result"
    }
   ],
   "source": [
    "# Datatypes of the columns in the dataset\n",
    "data.dtypes"
   ]
  },
  {
   "cell_type": "code",
   "execution_count": 6,
   "metadata": {},
   "outputs": [
    {
     "data": {
      "text/html": [
       "<div>\n",
       "<style scoped>\n",
       "    .dataframe tbody tr th:only-of-type {\n",
       "        vertical-align: middle;\n",
       "    }\n",
       "\n",
       "    .dataframe tbody tr th {\n",
       "        vertical-align: top;\n",
       "    }\n",
       "\n",
       "    .dataframe thead th {\n",
       "        text-align: right;\n",
       "    }\n",
       "</style>\n",
       "<table border=\"1\" class=\"dataframe\">\n",
       "  <thead>\n",
       "    <tr style=\"text-align: right;\">\n",
       "      <th></th>\n",
       "      <th>url</th>\n",
       "      <th>address</th>\n",
       "      <th>name</th>\n",
       "      <th>online_order</th>\n",
       "      <th>book_table</th>\n",
       "      <th>rate</th>\n",
       "      <th>votes</th>\n",
       "      <th>phone</th>\n",
       "      <th>location</th>\n",
       "      <th>rest_type</th>\n",
       "      <th>dish_liked</th>\n",
       "      <th>cuisines</th>\n",
       "      <th>approx_cost(for two people)</th>\n",
       "      <th>reviews_list</th>\n",
       "      <th>menu_item</th>\n",
       "      <th>listed_in(type)</th>\n",
       "      <th>listed_in(city)</th>\n",
       "    </tr>\n",
       "  </thead>\n",
       "  <tbody>\n",
       "    <tr>\n",
       "      <th>0</th>\n",
       "      <td>https://www.zomato.com/bangalore/jalsa-banasha...</td>\n",
       "      <td>942, 21st Main Road, 2nd Stage, Banashankari, ...</td>\n",
       "      <td>Jalsa</td>\n",
       "      <td>Yes</td>\n",
       "      <td>Yes</td>\n",
       "      <td>4.1/5</td>\n",
       "      <td>775</td>\n",
       "      <td>080 42297555\\r\\n+91 9743772233</td>\n",
       "      <td>Banashankari</td>\n",
       "      <td>Casual Dining</td>\n",
       "      <td>Pasta, Lunch Buffet, Masala Papad, Paneer Laja...</td>\n",
       "      <td>North Indian, Mughlai, Chinese</td>\n",
       "      <td>800</td>\n",
       "      <td>[('Rated 4.0', 'RATED\\n  A beautiful place to ...</td>\n",
       "      <td>[]</td>\n",
       "      <td>Buffet</td>\n",
       "      <td>Banashankari</td>\n",
       "    </tr>\n",
       "    <tr>\n",
       "      <th>1</th>\n",
       "      <td>https://www.zomato.com/bangalore/spice-elephan...</td>\n",
       "      <td>2nd Floor, 80 Feet Road, Near Big Bazaar, 6th ...</td>\n",
       "      <td>Spice Elephant</td>\n",
       "      <td>Yes</td>\n",
       "      <td>No</td>\n",
       "      <td>4.1/5</td>\n",
       "      <td>787</td>\n",
       "      <td>080 41714161</td>\n",
       "      <td>Banashankari</td>\n",
       "      <td>Casual Dining</td>\n",
       "      <td>Momos, Lunch Buffet, Chocolate Nirvana, Thai G...</td>\n",
       "      <td>Chinese, North Indian, Thai</td>\n",
       "      <td>800</td>\n",
       "      <td>[('Rated 4.0', 'RATED\\n  Had been here for din...</td>\n",
       "      <td>[]</td>\n",
       "      <td>Buffet</td>\n",
       "      <td>Banashankari</td>\n",
       "    </tr>\n",
       "  </tbody>\n",
       "</table>\n",
       "</div>"
      ],
      "text/plain": [
       "                                                 url  \\\n",
       "0  https://www.zomato.com/bangalore/jalsa-banasha...   \n",
       "1  https://www.zomato.com/bangalore/spice-elephan...   \n",
       "\n",
       "                                             address            name  \\\n",
       "0  942, 21st Main Road, 2nd Stage, Banashankari, ...           Jalsa   \n",
       "1  2nd Floor, 80 Feet Road, Near Big Bazaar, 6th ...  Spice Elephant   \n",
       "\n",
       "  online_order book_table   rate  votes                           phone  \\\n",
       "0          Yes        Yes  4.1/5    775  080 42297555\\r\\n+91 9743772233   \n",
       "1          Yes         No  4.1/5    787                    080 41714161   \n",
       "\n",
       "       location      rest_type  \\\n",
       "0  Banashankari  Casual Dining   \n",
       "1  Banashankari  Casual Dining   \n",
       "\n",
       "                                          dish_liked  \\\n",
       "0  Pasta, Lunch Buffet, Masala Papad, Paneer Laja...   \n",
       "1  Momos, Lunch Buffet, Chocolate Nirvana, Thai G...   \n",
       "\n",
       "                         cuisines approx_cost(for two people)  \\\n",
       "0  North Indian, Mughlai, Chinese                         800   \n",
       "1     Chinese, North Indian, Thai                         800   \n",
       "\n",
       "                                        reviews_list menu_item  \\\n",
       "0  [('Rated 4.0', 'RATED\\n  A beautiful place to ...        []   \n",
       "1  [('Rated 4.0', 'RATED\\n  Had been here for din...        []   \n",
       "\n",
       "  listed_in(type) listed_in(city)  \n",
       "0          Buffet    Banashankari  \n",
       "1          Buffet    Banashankari  "
      ]
     },
     "execution_count": 6,
     "metadata": {},
     "output_type": "execute_result"
    }
   ],
   "source": [
    "# Top two rows of dataset\n",
    "data.head(2)"
   ]
  },
  {
   "cell_type": "markdown",
   "metadata": {},
   "source": [
    "Columns description:\n",
    "\n",
    "url - the url of the restaurant in the zomato website\n",
    "\n",
    "address - the address of the restaurant in Bengaluru\n",
    "\n",
    "name - the name of the restaurant\n",
    "\n",
    "online_order - whether online ordering is available in the restaurant or not\n",
    "\n",
    "book_table - table booking option available or not\n",
    "\n",
    "rate - the overall rating of the restaurant out of 5\n",
    "\n",
    "votes - total number of rating for the restaurant as of the above mentioned date\n",
    "\n",
    "phone - the phone number of the restaurant\n",
    "\n",
    "location - the neighborhood in which the restaurant is located\n",
    "\n",
    "rest_type - type of restaurant \n",
    "\n",
    "dish_liked - dishes that people liked in the restaurant\n",
    "\n",
    "cuisines - food styles\n",
    "\n",
    "approx_cost(for two people) - the approximate cost for meal for two people\n",
    "\n",
    "reviews_list - reviews for the restaurant\n",
    "\n",
    "menu_item - list of menus available in the restaurant\n",
    "\n",
    "listed_in(type) - type of meal\n",
    "\n",
    "listed_in(city) - the neighborhood in which the restaurant is listed"
   ]
  },
  {
   "cell_type": "code",
   "execution_count": 7,
   "metadata": {},
   "outputs": [
    {
     "data": {
      "text/plain": [
       "0"
      ]
     },
     "execution_count": 7,
     "metadata": {},
     "output_type": "execute_result"
    }
   ],
   "source": [
    "# check for duplicated values\n",
    "data.duplicated().sum()"
   ]
  },
  {
   "cell_type": "markdown",
   "metadata": {},
   "source": [
    "There is no duplicate data here."
   ]
  },
  {
   "cell_type": "code",
   "execution_count": 8,
   "metadata": {},
   "outputs": [
    {
     "data": {
      "text/html": [
       "<div>\n",
       "<style scoped>\n",
       "    .dataframe tbody tr th:only-of-type {\n",
       "        vertical-align: middle;\n",
       "    }\n",
       "\n",
       "    .dataframe tbody tr th {\n",
       "        vertical-align: top;\n",
       "    }\n",
       "\n",
       "    .dataframe thead th {\n",
       "        text-align: right;\n",
       "    }\n",
       "</style>\n",
       "<table border=\"1\" class=\"dataframe\">\n",
       "  <thead>\n",
       "    <tr style=\"text-align: right;\">\n",
       "      <th></th>\n",
       "      <th>missing_perc</th>\n",
       "    </tr>\n",
       "  </thead>\n",
       "  <tbody>\n",
       "    <tr>\n",
       "      <th>url</th>\n",
       "      <td>0.000000</td>\n",
       "    </tr>\n",
       "    <tr>\n",
       "      <th>address</th>\n",
       "      <td>0.000000</td>\n",
       "    </tr>\n",
       "    <tr>\n",
       "      <th>name</th>\n",
       "      <td>0.000000</td>\n",
       "    </tr>\n",
       "    <tr>\n",
       "      <th>online_order</th>\n",
       "      <td>0.000000</td>\n",
       "    </tr>\n",
       "    <tr>\n",
       "      <th>book_table</th>\n",
       "      <td>0.000000</td>\n",
       "    </tr>\n",
       "    <tr>\n",
       "      <th>rate</th>\n",
       "      <td>15.033741</td>\n",
       "    </tr>\n",
       "    <tr>\n",
       "      <th>votes</th>\n",
       "      <td>0.000000</td>\n",
       "    </tr>\n",
       "    <tr>\n",
       "      <th>phone</th>\n",
       "      <td>2.335789</td>\n",
       "    </tr>\n",
       "    <tr>\n",
       "      <th>location</th>\n",
       "      <td>0.040606</td>\n",
       "    </tr>\n",
       "    <tr>\n",
       "      <th>rest_type</th>\n",
       "      <td>0.438927</td>\n",
       "    </tr>\n",
       "    <tr>\n",
       "      <th>dish_liked</th>\n",
       "      <td>54.291626</td>\n",
       "    </tr>\n",
       "    <tr>\n",
       "      <th>cuisines</th>\n",
       "      <td>0.087012</td>\n",
       "    </tr>\n",
       "    <tr>\n",
       "      <th>approx_cost(for two people)</th>\n",
       "      <td>0.669026</td>\n",
       "    </tr>\n",
       "    <tr>\n",
       "      <th>reviews_list</th>\n",
       "      <td>0.000000</td>\n",
       "    </tr>\n",
       "    <tr>\n",
       "      <th>menu_item</th>\n",
       "      <td>0.000000</td>\n",
       "    </tr>\n",
       "    <tr>\n",
       "      <th>listed_in(type)</th>\n",
       "      <td>0.000000</td>\n",
       "    </tr>\n",
       "    <tr>\n",
       "      <th>listed_in(city)</th>\n",
       "      <td>0.000000</td>\n",
       "    </tr>\n",
       "  </tbody>\n",
       "</table>\n",
       "</div>"
      ],
      "text/plain": [
       "                             missing_perc\n",
       "url                              0.000000\n",
       "address                          0.000000\n",
       "name                             0.000000\n",
       "online_order                     0.000000\n",
       "book_table                       0.000000\n",
       "rate                            15.033741\n",
       "votes                            0.000000\n",
       "phone                            2.335789\n",
       "location                         0.040606\n",
       "rest_type                        0.438927\n",
       "dish_liked                      54.291626\n",
       "cuisines                         0.087012\n",
       "approx_cost(for two people)      0.669026\n",
       "reviews_list                     0.000000\n",
       "menu_item                        0.000000\n",
       "listed_in(type)                  0.000000\n",
       "listed_in(city)                  0.000000"
      ]
     },
     "execution_count": 8,
     "metadata": {},
     "output_type": "execute_result"
    }
   ],
   "source": [
    "# Percentage of missing data\n",
    "pd.DataFrame((data.isnull().sum()/data.shape[0])*100,columns = ['missing_perc'])"
   ]
  },
  {
   "cell_type": "markdown",
   "metadata": {},
   "source": [
    "The variables 'dish_liked' has 54% and 'rate' has 15% of missing data. "
   ]
  },
  {
   "cell_type": "code",
   "execution_count": 9,
   "metadata": {},
   "outputs": [
    {
     "data": {
      "text/plain": [
       "Index(['name', 'online_order', 'book_table', 'rate', 'votes', 'location',\n",
       "       'rest_type', 'dish_liked', 'cuisines', 'approx_cost(for two people)',\n",
       "       'reviews_list', 'menu_item', 'listed_in(type)', 'listed_in(city)'],\n",
       "      dtype='object')"
      ]
     },
     "execution_count": 9,
     "metadata": {},
     "output_type": "execute_result"
    }
   ],
   "source": [
    "# Let us remove 'url', 'address' and 'phone' which doesn't give insights to the data\n",
    "data = data.drop(['url', 'address', 'phone'], axis=1)\n",
    "data.columns"
   ]
  },
  {
   "cell_type": "code",
   "execution_count": 10,
   "metadata": {},
   "outputs": [
    {
     "data": {
      "text/plain": [
       "Index(['name', 'online_order', 'book_table', 'rate', 'votes', 'location',\n",
       "       'rest_type', 'dish_liked', 'cuisines', 'cost_of_two', 'reviews_list',\n",
       "       'menu_item', 'service_type', 'service_availability'],\n",
       "      dtype='object')"
      ]
     },
     "execution_count": 10,
     "metadata": {},
     "output_type": "execute_result"
    }
   ],
   "source": [
    "# Renaming few variables for our convenience\n",
    "data = data.rename(columns = {'approx_cost(for two people)':'cost_of_two', 'listed_in(type)':'service_type', 'listed_in(city)':'service_availability'})\n",
    "data.columns"
   ]
  },
  {
   "cell_type": "markdown",
   "metadata": {},
   "source": [
    "# Exploratory Data Analysis"
   ]
  },
  {
   "cell_type": "markdown",
   "metadata": {},
   "source": [
    "# Top restaurant Chains in Bengaluru"
   ]
  },
  {
   "cell_type": "code",
   "execution_count": 11,
   "metadata": {},
   "outputs": [
    {
     "data": {
      "text/plain": [
       "<matplotlib.axes._subplots.AxesSubplot at 0x234d98d4198>"
      ]
     },
     "execution_count": 11,
     "metadata": {},
     "output_type": "execute_result"
    },
    {
     "data": {
      "image/png": "[encoded data removed]",
      "text/plain": [
       "<Figure size 432x288 with 1 Axes>"
      ]
     },
     "metadata": {
      "needs_background": "light"
     },
     "output_type": "display_data"
    }
   ],
   "source": [
    "top_rest = data.name.value_counts()[:20]\n",
    "sns.barplot(x = top_rest, y = top_rest.index, data=data)"
   ]
  },
  {
   "cell_type": "markdown",
   "metadata": {},
   "source": [
    "As you can see, 'Cafe Coffee Day', 'Onesta' and 'Just Bake' has most number of outlets in and around Bengaluru"
   ]
  },
  {
   "cell_type": "code",
   "execution_count": 12,
   "metadata": {},
   "outputs": [],
   "source": [
    "def loc_based_count(column, name):\n",
    "    dat = data.loc[data[column] == name].groupby('location').agg('count')\n",
    "    dat = np.transpose(pd.DataFrame([dat.index, dat.name]))\n",
    "    dat.columns = ['Name', 'Count']\n",
    "    dat = dat.sort_values('Count', ascending = False)\n",
    "    return dat[:5]"
   ]
  },
  {
   "cell_type": "code",
   "execution_count": 16,
   "metadata": {},
   "outputs": [
    {
     "data": {
      "text/html": [
       "<style  type=\"text/css\" >\n",
       "</style><table id=\"T_d375a112_aecd_11ea_b510_54ee75726159\" ><thead>    <tr>        <th class=\"col_heading level0 col0\" >Name</th>        <th class=\"col_heading level0 col1\" >Count</th>    </tr></thead><tbody>\n",
       "                <tr>\n",
       "                                <td id=\"T_d375a112_aecd_11ea_b510_54ee75726159row0_col0\" class=\"data row0 col0\" >Sarjapur Road</td>\n",
       "                        <td id=\"T_d375a112_aecd_11ea_b510_54ee75726159row0_col1\" class=\"data row0 col1\" >8</td>\n",
       "            </tr>\n",
       "            <tr>\n",
       "                                <td id=\"T_d375a112_aecd_11ea_b510_54ee75726159row1_col0\" class=\"data row1 col0\" >Bannerghatta Road</td>\n",
       "                        <td id=\"T_d375a112_aecd_11ea_b510_54ee75726159row1_col1\" class=\"data row1 col1\" >6</td>\n",
       "            </tr>\n",
       "            <tr>\n",
       "                                <td id=\"T_d375a112_aecd_11ea_b510_54ee75726159row2_col0\" class=\"data row2 col0\" >Jayanagar</td>\n",
       "                        <td id=\"T_d375a112_aecd_11ea_b510_54ee75726159row2_col1\" class=\"data row2 col1\" >6</td>\n",
       "            </tr>\n",
       "            <tr>\n",
       "                                <td id=\"T_d375a112_aecd_11ea_b510_54ee75726159row3_col0\" class=\"data row3 col0\" >Marathahalli</td>\n",
       "                        <td id=\"T_d375a112_aecd_11ea_b510_54ee75726159row3_col1\" class=\"data row3 col1\" >5</td>\n",
       "            </tr>\n",
       "            <tr>\n",
       "                                <td id=\"T_d375a112_aecd_11ea_b510_54ee75726159row4_col0\" class=\"data row4 col0\" >Banashankari</td>\n",
       "                        <td id=\"T_d375a112_aecd_11ea_b510_54ee75726159row4_col1\" class=\"data row4 col1\" >4</td>\n",
       "            </tr>\n",
       "    </tbody></table>"
      ],
      "text/plain": [
       "<pandas.io.formats.style.Styler at 0x234dbd29240>"
      ]
     },
     "execution_count": 16,
     "metadata": {},
     "output_type": "execute_result"
    }
   ],
   "source": [
    "# More about 'Cafe Coffee Day' outlets\n",
    "loc_based_count('name', 'Cafe Coffee Day').style.hide_index()"
   ]
  },
  {
   "cell_type": "markdown",
   "metadata": {},
   "source": [
    "More number of 'Cafe Coffee Day' outlets are at Sarjapur Road"
   ]
  },
  {
   "cell_type": "markdown",
   "metadata": {},
   "source": [
    "# How many restaurants do not accept online orders?"
   ]
  },
  {
   "cell_type": "code",
   "execution_count": 17,
   "metadata": {},
   "outputs": [
    {
     "data": {
      "text/plain": [
       "([<matplotlib.patches.Wedge at 0x234d9d62dd8>,\n",
       "  <matplotlib.patches.Wedge at 0x234d9d697f0>],\n",
       " [Text(-1.0576006311422714, -0.302458104549158, 'Yes'),\n",
       "  Text(1.0576006311422714, 0.30245810454915784, 'No')],\n",
       " [Text(-0.576873071532148, -0.16497714793590434, '58.9%'),\n",
       "  Text(0.5768730715321481, 0.16497714793590426, '41.1%')])"
      ]
     },
     "execution_count": 17,
     "metadata": {},
     "output_type": "execute_result"
    },
    {
     "data": {
      "image/png": "[encoded data removed]",
      "text/plain": [
       "<Figure size 432x288 with 1 Axes>"
      ]
     },
     "metadata": {},
     "output_type": "display_data"
    }
   ],
   "source": [
    "online_ord = data.online_order.value_counts()\n",
    "plt.pie(online_ord, labels=online_ord.index, autopct='%1.1f%%', shadow=True, startangle=90)"
   ]
  },
  {
   "cell_type": "markdown",
   "metadata": {},
   "source": [
    "1. As clearly indicated,58.9 percent of restaurants in Banglore accepts online orders.\n",
    "2. Nearly 41 percent of the restaurants do not accept online orders.\n",
    "\n",
    "The reason may be that these restaurants cannot afford to pay commission to zomoto for giving them orders online.\n",
    "Zomato will have to consider giving them some offers if they want to increase the number of restaurants serving their customers online."
   ]
  },
  {
   "cell_type": "markdown",
   "metadata": {},
   "source": [
    "# Restaurants supporting table booking "
   ]
  },
  {
   "cell_type": "code",
   "execution_count": 18,
   "metadata": {},
   "outputs": [
    {
     "data": {
      "text/plain": [
       "([<matplotlib.patches.Wedge at 0x234d9a6ffd0>,\n",
       "  <matplotlib.patches.Wedge at 0x234d9a78748>],\n",
       " [Text(-1.0166665902958882, 0.41998695715001977, 'No'),\n",
       "  Text(1.0166666001263924, -0.41998693335322057, 'Yes')],\n",
       " [Text(-0.5545454128886663, 0.22908379480910165, '87.5%'),\n",
       "  Text(0.5545454182507594, -0.2290837818290294, '12.5%')])"
      ]
     },
     "execution_count": 18,
     "metadata": {},
     "output_type": "execute_result"
    },
    {
     "data": {
      "image/png": "[encoded data removed]",
      "text/plain": [
       "<Figure size 432x288 with 1 Axes>"
      ]
     },
     "metadata": {},
     "output_type": "display_data"
    }
   ],
   "source": [
    "table_book = data.book_table.value_counts()\n",
    "plt.pie(table_book, labels = table_book.index, autopct='%1.1f%%')"
   ]
  },
  {
   "cell_type": "markdown",
   "metadata": {},
   "source": [
    "87 percent of restaurants don't provide table booking facility."
   ]
  },
  {
   "cell_type": "markdown",
   "metadata": {},
   "source": [
    "# Rating distribution"
   ]
  },
  {
   "cell_type": "code",
   "execution_count": 19,
   "metadata": {},
   "outputs": [
    {
     "data": {
      "text/plain": [
       "<matplotlib.axes._subplots.AxesSubplot at 0x234d9ac9ef0>"
      ]
     },
     "execution_count": 19,
     "metadata": {},
     "output_type": "execute_result"
    },
    {
     "data": {
      "image/png": "[encoded data removed]",
      "text/plain": [
       "<Figure size 432x288 with 1 Axes>"
      ]
     },
     "metadata": {
      "needs_background": "light"
     },
     "output_type": "display_data"
    }
   ],
   "source": [
    "rate = data.rate.dropna().apply(lambda x: float(x.split('/')[0]) if len(x)>3 else np.nan).dropna()\n",
    "sns.distplot(rate)"
   ]
  },
  {
   "cell_type": "markdown",
   "metadata": {},
   "source": [
    "Most of the restaurants received rating between 3.5 and 4.\n",
    "Restaurants having rating above 4.5 and below 2.5 are very less"
   ]
  },
  {
   "cell_type": "markdown",
   "metadata": {},
   "source": [
    "# Online Order vs Rating"
   ]
  },
  {
   "cell_type": "code",
   "execution_count": 20,
   "metadata": {},
   "outputs": [
    {
     "data": {
      "text/plain": [
       "<matplotlib.axes._subplots.AxesSubplot at 0x234d9da2908>"
      ]
     },
     "execution_count": 20,
     "metadata": {},
     "output_type": "execute_result"
    },
    {
     "data": {
      "image/png": "[encoded data removed]",
      "text/plain": [
       "<Figure size 432x288 with 1 Axes>"
      ]
     },
     "metadata": {
      "needs_background": "light"
     },
     "output_type": "display_data"
    }
   ],
   "source": [
    "votes_yes = data[data.online_order == 'Yes']['rate'].dropna().apply(lambda x: float(x.split('/')[0]) if len(x)>3 else np.nan).dropna()\n",
    "votes_no = data[data.online_order == 'No']['rate'].dropna().apply(lambda x: float(x.split('/')[0]) if len(x)>3 else np.nan).dropna()\n",
    "dat = np.transpose(pd.DataFrame([votes_yes.reset_index(drop=True), votes_no.reset_index(drop=True)]))\n",
    "dat.columns = ['online_order_Yes', 'online_order_No']\n",
    "sns.boxplot(data = dat)"
   ]
  },
  {
   "cell_type": "markdown",
   "metadata": {},
   "source": [
    "Restaurants accepting online orders are getting higher ratings than the restaurants that do not accept online orders"
   ]
  },
  {
   "cell_type": "markdown",
   "metadata": {},
   "source": [
    "# Booking table vs Rating"
   ]
  },
  {
   "cell_type": "code",
   "execution_count": 21,
   "metadata": {},
   "outputs": [
    {
     "data": {
      "text/plain": [
       "<matplotlib.axes._subplots.AxesSubplot at 0x234dbc1e0b8>"
      ]
     },
     "execution_count": 21,
     "metadata": {},
     "output_type": "execute_result"
    },
    {
     "data": {
      "image/png": "[encoded data removed]",
      "text/plain": [
       "<Figure size 432x288 with 1 Axes>"
      ]
     },
     "metadata": {
      "needs_background": "light"
     },
     "output_type": "display_data"
    }
   ],
   "source": [
    "votes_yes = data[data.book_table == 'Yes']['rate'].dropna().apply(lambda x: float(x.split('/')[0]) if len(x)>3 else np.nan).dropna()\n",
    "votes_no = data[data.book_table == 'No']['rate'].dropna().apply(lambda x: float(x.split('/')[0]) if len(x)>3 else np.nan).dropna()\n",
    "dat = np.transpose(pd.DataFrame([votes_yes.reset_index(drop=True), votes_no.reset_index(drop=True)]))\n",
    "dat.columns = ['book_table_Yes', 'book_table_No']\n",
    "sns.boxplot(data = dat)"
   ]
  },
  {
   "cell_type": "markdown",
   "metadata": {},
   "source": [
    "Restaurants accepting pre-table booking are getting higher ratings than the restaurants that do not accept pre-booking."
   ]
  },
  {
   "cell_type": "markdown",
   "metadata": {},
   "source": [
    "# Food lovers preferred location"
   ]
  },
  {
   "cell_type": "code",
   "execution_count": 22,
   "metadata": {},
   "outputs": [
    {
     "data": {
      "text/plain": [
       "<matplotlib.axes._subplots.AxesSubplot at 0x234ff8d4550>"
      ]
     },
     "execution_count": 22,
     "metadata": {},
     "output_type": "execute_result"
    },
    {
     "data": {
      "image/png": "[encoded data removed]",
      "text/plain": [
       "<Figure size 432x288 with 1 Axes>"
      ]
     },
     "metadata": {
      "needs_background": "light"
     },
     "output_type": "display_data"
    }
   ],
   "source": [
    "top_loc = data.location.value_counts()[:20]\n",
    "sns.barplot(x = top_loc, y = top_loc.index, data = data)"
   ]
  },
  {
   "cell_type": "markdown",
   "metadata": {},
   "source": [
    "As we can see, 'BTM' is the most popular location which has around 5000 restaurants. 'HSR', 'Koramangala 5th Block', 'JP nagar' and 'Whitefield' are the locations that are preferred next by the foodies."
   ]
  },
  {
   "cell_type": "markdown",
   "metadata": {},
   "source": [
    "# Most common restaurant type in Bengaluru"
   ]
  },
  {
   "cell_type": "code",
   "execution_count": 23,
   "metadata": {},
   "outputs": [
    {
     "data": {
      "text/plain": [
       "<matplotlib.axes._subplots.AxesSubplot at 0x234dbcbe780>"
      ]
     },
     "execution_count": 23,
     "metadata": {},
     "output_type": "execute_result"
    },
    {
     "data": {
      "image/png": "[encoded data removed]",
      "text/plain": [
       "<Figure size 432x288 with 1 Axes>"
      ]
     },
     "metadata": {
      "needs_background": "light"
     },
     "output_type": "display_data"
    }
   ],
   "source": [
    "rest_type = data.rest_type.value_counts()[:20]\n",
    "sns.barplot(x = rest_type, y = rest_type.index, data = data)"
   ]
  },
  {
   "cell_type": "markdown",
   "metadata": {},
   "source": [
    "The quick bite restaurants dominate here. In midst of busy schedules, people tend to have quick bites rather than a great meal. This might be the reason for this dominance."
   ]
  },
  {
   "cell_type": "code",
   "execution_count": 24,
   "metadata": {},
   "outputs": [],
   "source": [
    "def name_based_count(column, name):\n",
    "    dat = data.loc[data[column] == name].groupby('name').agg('count')\n",
    "    dat = np.transpose(pd.DataFrame([dat.index, dat.online_order]))\n",
    "    dat.columns = ['Name', 'Count']\n",
    "    dat = dat.sort_values('Count', ascending = False)\n",
    "    return dat[:5]"
   ]
  },
  {
   "cell_type": "markdown",
   "metadata": {},
   "source": [
    "# Popular 'Quick Bites' restaurants"
   ]
  },
  {
   "cell_type": "code",
   "execution_count": 25,
   "metadata": {},
   "outputs": [
    {
     "data": {
      "text/html": [
       "<style  type=\"text/css\" >\n",
       "</style><table id=\"T_eb101acc_aecd_11ea_ba2e_54ee75726159\" ><thead>    <tr>        <th class=\"col_heading level0 col0\" >Name</th>        <th class=\"col_heading level0 col1\" >Count</th>    </tr></thead><tbody>\n",
       "                <tr>\n",
       "                                <td id=\"T_eb101acc_aecd_11ea_ba2e_54ee75726159row0_col0\" class=\"data row0 col0\" >Five Star Chicken</td>\n",
       "                        <td id=\"T_eb101acc_aecd_11ea_ba2e_54ee75726159row0_col1\" class=\"data row0 col1\" >69</td>\n",
       "            </tr>\n",
       "            <tr>\n",
       "                                <td id=\"T_eb101acc_aecd_11ea_ba2e_54ee75726159row1_col0\" class=\"data row1 col0\" >Domino's Pizza</td>\n",
       "                        <td id=\"T_eb101acc_aecd_11ea_ba2e_54ee75726159row1_col1\" class=\"data row1 col1\" >60</td>\n",
       "            </tr>\n",
       "            <tr>\n",
       "                                <td id=\"T_eb101acc_aecd_11ea_ba2e_54ee75726159row2_col0\" class=\"data row2 col0\" >McDonald's</td>\n",
       "                        <td id=\"T_eb101acc_aecd_11ea_ba2e_54ee75726159row2_col1\" class=\"data row2 col1\" >59</td>\n",
       "            </tr>\n",
       "            <tr>\n",
       "                                <td id=\"T_eb101acc_aecd_11ea_ba2e_54ee75726159row3_col0\" class=\"data row3 col0\" >KFC</td>\n",
       "                        <td id=\"T_eb101acc_aecd_11ea_ba2e_54ee75726159row3_col1\" class=\"data row3 col1\" >56</td>\n",
       "            </tr>\n",
       "            <tr>\n",
       "                                <td id=\"T_eb101acc_aecd_11ea_ba2e_54ee75726159row4_col0\" class=\"data row4 col0\" >Ambur Hot Dum Biryani</td>\n",
       "                        <td id=\"T_eb101acc_aecd_11ea_ba2e_54ee75726159row4_col1\" class=\"data row4 col1\" >53</td>\n",
       "            </tr>\n",
       "    </tbody></table>"
      ],
      "text/plain": [
       "<pandas.io.formats.style.Styler at 0x234dbd99780>"
      ]
     },
     "execution_count": 25,
     "metadata": {},
     "output_type": "execute_result"
    }
   ],
   "source": [
    "name_based_count('rest_type', 'Quick Bites').style.hide_index()"
   ]
  },
  {
   "cell_type": "markdown",
   "metadata": {},
   "source": [
    "# Popular 'Casual Dining' restaurants"
   ]
  },
  {
   "cell_type": "code",
   "execution_count": 26,
   "metadata": {},
   "outputs": [
    {
     "data": {
      "text/html": [
       "<style  type=\"text/css\" >\n",
       "</style><table id=\"T_efbabb38_aecd_11ea_b92c_54ee75726159\" ><thead>    <tr>        <th class=\"col_heading level0 col0\" >Name</th>        <th class=\"col_heading level0 col1\" >Count</th>    </tr></thead><tbody>\n",
       "                <tr>\n",
       "                                <td id=\"T_efbabb38_aecd_11ea_b92c_54ee75726159row0_col0\" class=\"data row0 col0\" >Empire Restaurant</td>\n",
       "                        <td id=\"T_efbabb38_aecd_11ea_b92c_54ee75726159row0_col1\" class=\"data row0 col1\" >58</td>\n",
       "            </tr>\n",
       "            <tr>\n",
       "                                <td id=\"T_efbabb38_aecd_11ea_b92c_54ee75726159row1_col0\" class=\"data row1 col0\" >Beijing Bites</td>\n",
       "                        <td id=\"T_efbabb38_aecd_11ea_b92c_54ee75726159row1_col1\" class=\"data row1 col1\" >48</td>\n",
       "            </tr>\n",
       "            <tr>\n",
       "                                <td id=\"T_efbabb38_aecd_11ea_b92c_54ee75726159row2_col0\" class=\"data row2 col0\" >Mani's Dum Biryani</td>\n",
       "                        <td id=\"T_efbabb38_aecd_11ea_b92c_54ee75726159row2_col1\" class=\"data row2 col1\" >47</td>\n",
       "            </tr>\n",
       "            <tr>\n",
       "                                <td id=\"T_efbabb38_aecd_11ea_b92c_54ee75726159row3_col0\" class=\"data row3 col0\" >Chung Wah</td>\n",
       "                        <td id=\"T_efbabb38_aecd_11ea_b92c_54ee75726159row3_col1\" class=\"data row3 col1\" >46</td>\n",
       "            </tr>\n",
       "            <tr>\n",
       "                                <td id=\"T_efbabb38_aecd_11ea_b92c_54ee75726159row4_col0\" class=\"data row4 col0\" >Toscano</td>\n",
       "                        <td id=\"T_efbabb38_aecd_11ea_b92c_54ee75726159row4_col1\" class=\"data row4 col1\" >41</td>\n",
       "            </tr>\n",
       "    </tbody></table>"
      ],
      "text/plain": [
       "<pandas.io.formats.style.Styler at 0x234dbd55198>"
      ]
     },
     "execution_count": 26,
     "metadata": {},
     "output_type": "execute_result"
    }
   ],
   "source": [
    "name_based_count('rest_type', 'Casual Dining').style.hide_index()"
   ]
  },
  {
   "cell_type": "markdown",
   "metadata": {},
   "source": [
    "# Most Popular Cuisines "
   ]
  },
  {
   "cell_type": "code",
   "execution_count": 27,
   "metadata": {},
   "outputs": [
    {
     "data": {
      "text/plain": [
       "<matplotlib.axes._subplots.AxesSubplot at 0x234dbde2588>"
      ]
     },
     "execution_count": 27,
     "metadata": {},
     "output_type": "execute_result"
    },
    {
     "data": {
      "image/png": "[encoded data removed]",
      "text/plain": [
       "<Figure size 432x288 with 1 Axes>"
      ]
     },
     "metadata": {
      "needs_background": "light"
     },
     "output_type": "display_data"
    }
   ],
   "source": [
    "cuisines = data.cuisines.value_counts()[:20]\n",
    "sns.barplot(x = cuisines, y= cuisines.index, data = data)"
   ]
  },
  {
   "cell_type": "markdown",
   "metadata": {},
   "source": [
    "It can be seen that North Indian and Chinese foods are most preferred than South Indian food.\n",
    "\n",
    "\n",
    "\n",
    "Lets check more deep into it."
   ]
  },
  {
   "cell_type": "markdown",
   "metadata": {},
   "source": [
    "# More number of North Indian restaurants are at?"
   ]
  },
  {
   "cell_type": "code",
   "execution_count": 28,
   "metadata": {},
   "outputs": [
    {
     "data": {
      "text/html": [
       "<style  type=\"text/css\" >\n",
       "</style><table id=\"T_f4669d52_aecd_11ea_a92f_54ee75726159\" ><thead>    <tr>        <th class=\"col_heading level0 col0\" >Name</th>        <th class=\"col_heading level0 col1\" >Count</th>    </tr></thead><tbody>\n",
       "                <tr>\n",
       "                                <td id=\"T_f4669d52_aecd_11ea_a92f_54ee75726159row0_col0\" class=\"data row0 col0\" >BTM</td>\n",
       "                        <td id=\"T_f4669d52_aecd_11ea_a92f_54ee75726159row0_col1\" class=\"data row0 col1\" >340</td>\n",
       "            </tr>\n",
       "            <tr>\n",
       "                                <td id=\"T_f4669d52_aecd_11ea_a92f_54ee75726159row1_col0\" class=\"data row1 col0\" >Whitefield</td>\n",
       "                        <td id=\"T_f4669d52_aecd_11ea_a92f_54ee75726159row1_col1\" class=\"data row1 col1\" >188</td>\n",
       "            </tr>\n",
       "            <tr>\n",
       "                                <td id=\"T_f4669d52_aecd_11ea_a92f_54ee75726159row2_col0\" class=\"data row2 col0\" >HSR</td>\n",
       "                        <td id=\"T_f4669d52_aecd_11ea_a92f_54ee75726159row2_col1\" class=\"data row2 col1\" >173</td>\n",
       "            </tr>\n",
       "            <tr>\n",
       "                                <td id=\"T_f4669d52_aecd_11ea_a92f_54ee75726159row3_col0\" class=\"data row3 col0\" >Bellandur</td>\n",
       "                        <td id=\"T_f4669d52_aecd_11ea_a92f_54ee75726159row3_col1\" class=\"data row3 col1\" >161</td>\n",
       "            </tr>\n",
       "            <tr>\n",
       "                                <td id=\"T_f4669d52_aecd_11ea_a92f_54ee75726159row4_col0\" class=\"data row4 col0\" >JP Nagar</td>\n",
       "                        <td id=\"T_f4669d52_aecd_11ea_a92f_54ee75726159row4_col1\" class=\"data row4 col1\" >157</td>\n",
       "            </tr>\n",
       "    </tbody></table>"
      ],
      "text/plain": [
       "<pandas.io.formats.style.Styler at 0x234ff8f7c18>"
      ]
     },
     "execution_count": 28,
     "metadata": {},
     "output_type": "execute_result"
    }
   ],
   "source": [
    "# Location based table which has more number of 'North Indian' Restaurants\n",
    "loc_based_count('cuisines','North Indian').style.hide_index()"
   ]
  },
  {
   "cell_type": "markdown",
   "metadata": {},
   "source": [
    "It looks like locations where the restaurants serve 'North Indian' cuisines are in the south part of Bengaluru and thus we can assume that the area is more popolated with North Indian people."
   ]
  },
  {
   "cell_type": "markdown",
   "metadata": {},
   "source": [
    "# What about South Indian Restaurants?"
   ]
  },
  {
   "cell_type": "code",
   "execution_count": 29,
   "metadata": {},
   "outputs": [
    {
     "data": {
      "text/html": [
       "<style  type=\"text/css\" >\n",
       "</style><table id=\"T_f860b1e2_aecd_11ea_9664_54ee75726159\" ><thead>    <tr>        <th class=\"col_heading level0 col0\" >Name</th>        <th class=\"col_heading level0 col1\" >Count</th>    </tr></thead><tbody>\n",
       "                <tr>\n",
       "                                <td id=\"T_f860b1e2_aecd_11ea_9664_54ee75726159row0_col0\" class=\"data row0 col0\" >BTM</td>\n",
       "                        <td id=\"T_f860b1e2_aecd_11ea_9664_54ee75726159row0_col1\" class=\"data row0 col1\" >113</td>\n",
       "            </tr>\n",
       "            <tr>\n",
       "                                <td id=\"T_f860b1e2_aecd_11ea_9664_54ee75726159row1_col0\" class=\"data row1 col0\" >Jayanagar</td>\n",
       "                        <td id=\"T_f860b1e2_aecd_11ea_9664_54ee75726159row1_col1\" class=\"data row1 col1\" >99</td>\n",
       "            </tr>\n",
       "            <tr>\n",
       "                                <td id=\"T_f860b1e2_aecd_11ea_9664_54ee75726159row2_col0\" class=\"data row2 col0\" >Basavanagudi</td>\n",
       "                        <td id=\"T_f860b1e2_aecd_11ea_9664_54ee75726159row2_col1\" class=\"data row2 col1\" >89</td>\n",
       "            </tr>\n",
       "            <tr>\n",
       "                                <td id=\"T_f860b1e2_aecd_11ea_9664_54ee75726159row3_col0\" class=\"data row3 col0\" >JP Nagar</td>\n",
       "                        <td id=\"T_f860b1e2_aecd_11ea_9664_54ee75726159row3_col1\" class=\"data row3 col1\" >89</td>\n",
       "            </tr>\n",
       "            <tr>\n",
       "                                <td id=\"T_f860b1e2_aecd_11ea_9664_54ee75726159row4_col0\" class=\"data row4 col0\" >Banashankari</td>\n",
       "                        <td id=\"T_f860b1e2_aecd_11ea_9664_54ee75726159row4_col1\" class=\"data row4 col1\" >86</td>\n",
       "            </tr>\n",
       "    </tbody></table>"
      ],
      "text/plain": [
       "<pandas.io.formats.style.Styler at 0x234dbde2240>"
      ]
     },
     "execution_count": 29,
     "metadata": {},
     "output_type": "execute_result"
    }
   ],
   "source": [
    "loc_based_count('cuisines','South Indian').style.hide_index()"
   ]
  },
  {
   "cell_type": "markdown",
   "metadata": {},
   "source": [
    "# Distribution of approximate cost for two people"
   ]
  },
  {
   "cell_type": "code",
   "execution_count": 30,
   "metadata": {},
   "outputs": [
    {
     "data": {
      "text/plain": [
       "<matplotlib.axes._subplots.AxesSubplot at 0x234dbeba518>"
      ]
     },
     "execution_count": 30,
     "metadata": {},
     "output_type": "execute_result"
    },
    {
     "data": {
      "image/png": "[encoded data removed]",
      "text/plain": [
       "<Figure size 432x288 with 1 Axes>"
      ]
     },
     "metadata": {
      "needs_background": "light"
     },
     "output_type": "display_data"
    }
   ],
   "source": [
    "cost_two = data.cost_of_two.dropna().apply(lambda x: int(str(x).replace(',','')))\n",
    "sns.distplot(cost_two)"
   ]
  },
  {
   "cell_type": "markdown",
   "metadata": {},
   "source": [
    "Distribution is right skewed. Most of the restaurants charge less than 1000 rupees for two people and there are restaurants which charge 6000 rupees for two people."
   ]
  },
  {
   "cell_type": "markdown",
   "metadata": {},
   "source": [
    "# Most preferred Service types"
   ]
  },
  {
   "cell_type": "code",
   "execution_count": 31,
   "metadata": {},
   "outputs": [
    {
     "data": {
      "text/plain": [
       "<matplotlib.axes._subplots.AxesSubplot at 0x234dbea22b0>"
      ]
     },
     "execution_count": 31,
     "metadata": {},
     "output_type": "execute_result"
    },
    {
     "data": {
      "image/png": "[encoded data removed]",
      "text/plain": [
       "<Figure size 432x288 with 1 Axes>"
      ]
     },
     "metadata": {
      "needs_background": "light"
     },
     "output_type": "display_data"
    }
   ],
   "source": [
    "serv_type = data.service_type.value_counts()\n",
    "sns.barplot(x = serv_type, y = serv_type.index, data = data)"
   ]
  },
  {
   "cell_type": "markdown",
   "metadata": {},
   "source": [
    "People are using delivery option more than dining out."
   ]
  },
  {
   "cell_type": "markdown",
   "metadata": {},
   "source": [
    "# Budget Restaurants at each location"
   ]
  },
  {
   "cell_type": "markdown",
   "metadata": {},
   "source": [
    "# Input 'location' and 'rest_type'"
   ]
  },
  {
   "cell_type": "code",
   "execution_count": 32,
   "metadata": {},
   "outputs": [
    {
     "name": "stdout",
     "output_type": "stream",
     "text": [
      "Preferred location Banashankari\n",
      "Preferred restaurant type (Eg: Quick Bites, Casual Dining) Casual Dining\n"
     ]
    }
   ],
   "source": [
    "def loc_based_resttype(location, rest_type):\n",
    "    dat = data[data['location'] == location][data['rest_type'] == rest_type]\n",
    "    dat = np.transpose(pd.DataFrame([dat.name, dat.cost_of_two]))\n",
    "    dat.cost_of_two = dat.cost_of_two.dropna().apply(lambda x: int(str(x).replace(',','')))\n",
    "    dat = dat.sort_values('cost_of_two', ascending = True)\n",
    "    return dat\n",
    "\n",
    "loc = input('Preferred location ')\n",
    "restype = input('Preferred restaurant type (Eg: Quick Bites, Casual Dining) ')"
   ]
  },
  {
   "cell_type": "code",
   "execution_count": 34,
   "metadata": {},
   "outputs": [
    {
     "name": "stderr",
     "output_type": "stream",
     "text": [
      "C:\\ProgramData\\Anaconda3\\lib\\site-packages\\ipykernel_launcher.py:2: UserWarning: Boolean Series key will be reindexed to match DataFrame index.\n",
      "  \n"
     ]
    },
    {
     "data": {
      "text/html": [
       "<style  type=\"text/css\" >\n",
       "</style><table id=\"T_24956976_aece_11ea_8351_54ee75726159\" ><thead>    <tr>        <th class=\"col_heading level0 col0\" >name</th>        <th class=\"col_heading level0 col1\" >cost_of_two</th>    </tr></thead><tbody>\n",
       "                <tr>\n",
       "                                <td id=\"T_24956976_aece_11ea_8351_54ee75726159row0_col0\" class=\"data row0 col0\" >Sri Krishna Sagar</td>\n",
       "                        <td id=\"T_24956976_aece_11ea_8351_54ee75726159row0_col1\" class=\"data row0 col1\" >400</td>\n",
       "            </tr>\n",
       "            <tr>\n",
       "                                <td id=\"T_24956976_aece_11ea_8351_54ee75726159row1_col0\" class=\"data row1 col0\" >Sri Krishna Sagar</td>\n",
       "                        <td id=\"T_24956976_aece_11ea_8351_54ee75726159row1_col1\" class=\"data row1 col1\" >400</td>\n",
       "            </tr>\n",
       "            <tr>\n",
       "                                <td id=\"T_24956976_aece_11ea_8351_54ee75726159row2_col0\" class=\"data row2 col0\" >Sri Krishna Sagar</td>\n",
       "                        <td id=\"T_24956976_aece_11ea_8351_54ee75726159row2_col1\" class=\"data row2 col1\" >400</td>\n",
       "            </tr>\n",
       "            <tr>\n",
       "                                <td id=\"T_24956976_aece_11ea_8351_54ee75726159row3_col0\" class=\"data row3 col0\" >Sri Krishna Sagar</td>\n",
       "                        <td id=\"T_24956976_aece_11ea_8351_54ee75726159row3_col1\" class=\"data row3 col1\" >400</td>\n",
       "            </tr>\n",
       "            <tr>\n",
       "                                <td id=\"T_24956976_aece_11ea_8351_54ee75726159row4_col0\" class=\"data row4 col0\" >New Imperial Restaurant</td>\n",
       "                        <td id=\"T_24956976_aece_11ea_8351_54ee75726159row4_col1\" class=\"data row4 col1\" >450</td>\n",
       "            </tr>\n",
       "            <tr>\n",
       "                                <td id=\"T_24956976_aece_11ea_8351_54ee75726159row5_col0\" class=\"data row5 col0\" >New Imperial Restaurant</td>\n",
       "                        <td id=\"T_24956976_aece_11ea_8351_54ee75726159row5_col1\" class=\"data row5 col1\" >450</td>\n",
       "            </tr>\n",
       "            <tr>\n",
       "                                <td id=\"T_24956976_aece_11ea_8351_54ee75726159row6_col0\" class=\"data row6 col0\" >Anna Kuteera</td>\n",
       "                        <td id=\"T_24956976_aece_11ea_8351_54ee75726159row6_col1\" class=\"data row6 col1\" >450</td>\n",
       "            </tr>\n",
       "            <tr>\n",
       "                                <td id=\"T_24956976_aece_11ea_8351_54ee75726159row7_col0\" class=\"data row7 col0\" >New Imperial Restaurant</td>\n",
       "                        <td id=\"T_24956976_aece_11ea_8351_54ee75726159row7_col1\" class=\"data row7 col1\" >450</td>\n",
       "            </tr>\n",
       "            <tr>\n",
       "                                <td id=\"T_24956976_aece_11ea_8351_54ee75726159row8_col0\" class=\"data row8 col0\" >Anna Kuteera</td>\n",
       "                        <td id=\"T_24956976_aece_11ea_8351_54ee75726159row8_col1\" class=\"data row8 col1\" >450</td>\n",
       "            </tr>\n",
       "            <tr>\n",
       "                                <td id=\"T_24956976_aece_11ea_8351_54ee75726159row9_col0\" class=\"data row9 col0\" >New Imperial Restaurant</td>\n",
       "                        <td id=\"T_24956976_aece_11ea_8351_54ee75726159row9_col1\" class=\"data row9 col1\" >450</td>\n",
       "            </tr>\n",
       "            <tr>\n",
       "                                <td id=\"T_24956976_aece_11ea_8351_54ee75726159row10_col0\" class=\"data row10 col0\" >Anna Kuteera</td>\n",
       "                        <td id=\"T_24956976_aece_11ea_8351_54ee75726159row10_col1\" class=\"data row10 col1\" >450</td>\n",
       "            </tr>\n",
       "            <tr>\n",
       "                                <td id=\"T_24956976_aece_11ea_8351_54ee75726159row11_col0\" class=\"data row11 col0\" >My Tea House</td>\n",
       "                        <td id=\"T_24956976_aece_11ea_8351_54ee75726159row11_col1\" class=\"data row11 col1\" >500</td>\n",
       "            </tr>\n",
       "            <tr>\n",
       "                                <td id=\"T_24956976_aece_11ea_8351_54ee75726159row12_col0\" class=\"data row12 col0\" >My Tea House</td>\n",
       "                        <td id=\"T_24956976_aece_11ea_8351_54ee75726159row12_col1\" class=\"data row12 col1\" >500</td>\n",
       "            </tr>\n",
       "            <tr>\n",
       "                                <td id=\"T_24956976_aece_11ea_8351_54ee75726159row13_col0\" class=\"data row13 col0\" >Dal Tadkaa</td>\n",
       "                        <td id=\"T_24956976_aece_11ea_8351_54ee75726159row13_col1\" class=\"data row13 col1\" >500</td>\n",
       "            </tr>\n",
       "            <tr>\n",
       "                                <td id=\"T_24956976_aece_11ea_8351_54ee75726159row14_col0\" class=\"data row14 col0\" >Kydz Adda</td>\n",
       "                        <td id=\"T_24956976_aece_11ea_8351_54ee75726159row14_col1\" class=\"data row14 col1\" >500</td>\n",
       "            </tr>\n",
       "            <tr>\n",
       "                                <td id=\"T_24956976_aece_11ea_8351_54ee75726159row15_col0\" class=\"data row15 col0\" >7 Hills Restaurant</td>\n",
       "                        <td id=\"T_24956976_aece_11ea_8351_54ee75726159row15_col1\" class=\"data row15 col1\" >500</td>\n",
       "            </tr>\n",
       "            <tr>\n",
       "                                <td id=\"T_24956976_aece_11ea_8351_54ee75726159row16_col0\" class=\"data row16 col0\" >My Tea House</td>\n",
       "                        <td id=\"T_24956976_aece_11ea_8351_54ee75726159row16_col1\" class=\"data row16 col1\" >500</td>\n",
       "            </tr>\n",
       "            <tr>\n",
       "                                <td id=\"T_24956976_aece_11ea_8351_54ee75726159row17_col0\" class=\"data row17 col0\" >Dal Tadkaa</td>\n",
       "                        <td id=\"T_24956976_aece_11ea_8351_54ee75726159row17_col1\" class=\"data row17 col1\" >500</td>\n",
       "            </tr>\n",
       "            <tr>\n",
       "                                <td id=\"T_24956976_aece_11ea_8351_54ee75726159row18_col0\" class=\"data row18 col0\" >My Tea House</td>\n",
       "                        <td id=\"T_24956976_aece_11ea_8351_54ee75726159row18_col1\" class=\"data row18 col1\" >500</td>\n",
       "            </tr>\n",
       "            <tr>\n",
       "                                <td id=\"T_24956976_aece_11ea_8351_54ee75726159row19_col0\" class=\"data row19 col0\" >Kydz Adda</td>\n",
       "                        <td id=\"T_24956976_aece_11ea_8351_54ee75726159row19_col1\" class=\"data row19 col1\" >500</td>\n",
       "            </tr>\n",
       "            <tr>\n",
       "                                <td id=\"T_24956976_aece_11ea_8351_54ee75726159row20_col0\" class=\"data row20 col0\" >Food Box Cafe</td>\n",
       "                        <td id=\"T_24956976_aece_11ea_8351_54ee75726159row20_col1\" class=\"data row20 col1\" >500</td>\n",
       "            </tr>\n",
       "            <tr>\n",
       "                                <td id=\"T_24956976_aece_11ea_8351_54ee75726159row21_col0\" class=\"data row21 col0\" >Dal Tadkaa</td>\n",
       "                        <td id=\"T_24956976_aece_11ea_8351_54ee75726159row21_col1\" class=\"data row21 col1\" >500</td>\n",
       "            </tr>\n",
       "            <tr>\n",
       "                                <td id=\"T_24956976_aece_11ea_8351_54ee75726159row22_col0\" class=\"data row22 col0\" >Manifest Cafe</td>\n",
       "                        <td id=\"T_24956976_aece_11ea_8351_54ee75726159row22_col1\" class=\"data row22 col1\" >500</td>\n",
       "            </tr>\n",
       "            <tr>\n",
       "                                <td id=\"T_24956976_aece_11ea_8351_54ee75726159row23_col0\" class=\"data row23 col0\" >Kydz Adda</td>\n",
       "                        <td id=\"T_24956976_aece_11ea_8351_54ee75726159row23_col1\" class=\"data row23 col1\" >500</td>\n",
       "            </tr>\n",
       "            <tr>\n",
       "                                <td id=\"T_24956976_aece_11ea_8351_54ee75726159row24_col0\" class=\"data row24 col0\" >Parijatha Paradise</td>\n",
       "                        <td id=\"T_24956976_aece_11ea_8351_54ee75726159row24_col1\" class=\"data row24 col1\" >500</td>\n",
       "            </tr>\n",
       "            <tr>\n",
       "                                <td id=\"T_24956976_aece_11ea_8351_54ee75726159row25_col0\" class=\"data row25 col0\" >Swadesh Tadka</td>\n",
       "                        <td id=\"T_24956976_aece_11ea_8351_54ee75726159row25_col1\" class=\"data row25 col1\" >600</td>\n",
       "            </tr>\n",
       "            <tr>\n",
       "                                <td id=\"T_24956976_aece_11ea_8351_54ee75726159row26_col0\" class=\"data row26 col0\" >Szechuan Dragon</td>\n",
       "                        <td id=\"T_24956976_aece_11ea_8351_54ee75726159row26_col1\" class=\"data row26 col1\" >600</td>\n",
       "            </tr>\n",
       "            <tr>\n",
       "                                <td id=\"T_24956976_aece_11ea_8351_54ee75726159row27_col0\" class=\"data row27 col0\" >Swadesh Tadka</td>\n",
       "                        <td id=\"T_24956976_aece_11ea_8351_54ee75726159row27_col1\" class=\"data row27 col1\" >600</td>\n",
       "            </tr>\n",
       "            <tr>\n",
       "                                <td id=\"T_24956976_aece_11ea_8351_54ee75726159row28_col0\" class=\"data row28 col0\" >Sri Yaksha Shiv Sagar</td>\n",
       "                        <td id=\"T_24956976_aece_11ea_8351_54ee75726159row28_col1\" class=\"data row28 col1\" >600</td>\n",
       "            </tr>\n",
       "            <tr>\n",
       "                                <td id=\"T_24956976_aece_11ea_8351_54ee75726159row29_col0\" class=\"data row29 col0\" >Szechuan Dragon</td>\n",
       "                        <td id=\"T_24956976_aece_11ea_8351_54ee75726159row29_col1\" class=\"data row29 col1\" >600</td>\n",
       "            </tr>\n",
       "            <tr>\n",
       "                                <td id=\"T_24956976_aece_11ea_8351_54ee75726159row30_col0\" class=\"data row30 col0\" >Szechuan Dragon</td>\n",
       "                        <td id=\"T_24956976_aece_11ea_8351_54ee75726159row30_col1\" class=\"data row30 col1\" >600</td>\n",
       "            </tr>\n",
       "            <tr>\n",
       "                                <td id=\"T_24956976_aece_11ea_8351_54ee75726159row31_col0\" class=\"data row31 col0\" >Kadala Tarangaa</td>\n",
       "                        <td id=\"T_24956976_aece_11ea_8351_54ee75726159row31_col1\" class=\"data row31 col1\" >600</td>\n",
       "            </tr>\n",
       "            <tr>\n",
       "                                <td id=\"T_24956976_aece_11ea_8351_54ee75726159row32_col0\" class=\"data row32 col0\" >Kadala Tarangaa</td>\n",
       "                        <td id=\"T_24956976_aece_11ea_8351_54ee75726159row32_col1\" class=\"data row32 col1\" >600</td>\n",
       "            </tr>\n",
       "            <tr>\n",
       "                                <td id=\"T_24956976_aece_11ea_8351_54ee75726159row33_col0\" class=\"data row33 col0\" >Sri Yaksha Shiv Sagar</td>\n",
       "                        <td id=\"T_24956976_aece_11ea_8351_54ee75726159row33_col1\" class=\"data row33 col1\" >600</td>\n",
       "            </tr>\n",
       "            <tr>\n",
       "                                <td id=\"T_24956976_aece_11ea_8351_54ee75726159row34_col0\" class=\"data row34 col0\" >Swadesh Tadka</td>\n",
       "                        <td id=\"T_24956976_aece_11ea_8351_54ee75726159row34_col1\" class=\"data row34 col1\" >600</td>\n",
       "            </tr>\n",
       "            <tr>\n",
       "                                <td id=\"T_24956976_aece_11ea_8351_54ee75726159row35_col0\" class=\"data row35 col0\" >Nandhini Deluxe</td>\n",
       "                        <td id=\"T_24956976_aece_11ea_8351_54ee75726159row35_col1\" class=\"data row35 col1\" >600</td>\n",
       "            </tr>\n",
       "            <tr>\n",
       "                                <td id=\"T_24956976_aece_11ea_8351_54ee75726159row36_col0\" class=\"data row36 col0\" >Kadala Tarangaa</td>\n",
       "                        <td id=\"T_24956976_aece_11ea_8351_54ee75726159row36_col1\" class=\"data row36 col1\" >600</td>\n",
       "            </tr>\n",
       "            <tr>\n",
       "                                <td id=\"T_24956976_aece_11ea_8351_54ee75726159row37_col0\" class=\"data row37 col0\" >Szechuan Dragon</td>\n",
       "                        <td id=\"T_24956976_aece_11ea_8351_54ee75726159row37_col1\" class=\"data row37 col1\" >600</td>\n",
       "            </tr>\n",
       "            <tr>\n",
       "                                <td id=\"T_24956976_aece_11ea_8351_54ee75726159row38_col0\" class=\"data row38 col0\" >Szechuan Dragon</td>\n",
       "                        <td id=\"T_24956976_aece_11ea_8351_54ee75726159row38_col1\" class=\"data row38 col1\" >600</td>\n",
       "            </tr>\n",
       "            <tr>\n",
       "                                <td id=\"T_24956976_aece_11ea_8351_54ee75726159row39_col0\" class=\"data row39 col0\" >Nandhini Deluxe</td>\n",
       "                        <td id=\"T_24956976_aece_11ea_8351_54ee75726159row39_col1\" class=\"data row39 col1\" >600</td>\n",
       "            </tr>\n",
       "            <tr>\n",
       "                                <td id=\"T_24956976_aece_11ea_8351_54ee75726159row40_col0\" class=\"data row40 col0\" >Sri Yaksha Shiv Sagar</td>\n",
       "                        <td id=\"T_24956976_aece_11ea_8351_54ee75726159row40_col1\" class=\"data row40 col1\" >600</td>\n",
       "            </tr>\n",
       "            <tr>\n",
       "                                <td id=\"T_24956976_aece_11ea_8351_54ee75726159row41_col0\" class=\"data row41 col0\" >Swadesh Tadka</td>\n",
       "                        <td id=\"T_24956976_aece_11ea_8351_54ee75726159row41_col1\" class=\"data row41 col1\" >600</td>\n",
       "            </tr>\n",
       "            <tr>\n",
       "                                <td id=\"T_24956976_aece_11ea_8351_54ee75726159row42_col0\" class=\"data row42 col0\" >Swadesh Tadka</td>\n",
       "                        <td id=\"T_24956976_aece_11ea_8351_54ee75726159row42_col1\" class=\"data row42 col1\" >600</td>\n",
       "            </tr>\n",
       "            <tr>\n",
       "                                <td id=\"T_24956976_aece_11ea_8351_54ee75726159row43_col0\" class=\"data row43 col0\" >Kadala Tarangaa</td>\n",
       "                        <td id=\"T_24956976_aece_11ea_8351_54ee75726159row43_col1\" class=\"data row43 col1\" >600</td>\n",
       "            </tr>\n",
       "            <tr>\n",
       "                                <td id=\"T_24956976_aece_11ea_8351_54ee75726159row44_col0\" class=\"data row44 col0\" >Sri Yaksha Shiv Sagar</td>\n",
       "                        <td id=\"T_24956976_aece_11ea_8351_54ee75726159row44_col1\" class=\"data row44 col1\" >600</td>\n",
       "            </tr>\n",
       "            <tr>\n",
       "                                <td id=\"T_24956976_aece_11ea_8351_54ee75726159row45_col0\" class=\"data row45 col0\" >Sri Yaksha Shiv Sagar</td>\n",
       "                        <td id=\"T_24956976_aece_11ea_8351_54ee75726159row45_col1\" class=\"data row45 col1\" >600</td>\n",
       "            </tr>\n",
       "            <tr>\n",
       "                                <td id=\"T_24956976_aece_11ea_8351_54ee75726159row46_col0\" class=\"data row46 col0\" >Kadala Tarangaa</td>\n",
       "                        <td id=\"T_24956976_aece_11ea_8351_54ee75726159row46_col1\" class=\"data row46 col1\" >600</td>\n",
       "            </tr>\n",
       "            <tr>\n",
       "                                <td id=\"T_24956976_aece_11ea_8351_54ee75726159row47_col0\" class=\"data row47 col0\" >Sri Yaksha Shiv Sagar</td>\n",
       "                        <td id=\"T_24956976_aece_11ea_8351_54ee75726159row47_col1\" class=\"data row47 col1\" >600</td>\n",
       "            </tr>\n",
       "            <tr>\n",
       "                                <td id=\"T_24956976_aece_11ea_8351_54ee75726159row48_col0\" class=\"data row48 col0\" >New Prashanth Hotel</td>\n",
       "                        <td id=\"T_24956976_aece_11ea_8351_54ee75726159row48_col1\" class=\"data row48 col1\" >650</td>\n",
       "            </tr>\n",
       "            <tr>\n",
       "                                <td id=\"T_24956976_aece_11ea_8351_54ee75726159row49_col0\" class=\"data row49 col0\" >New Prashanth Hotel</td>\n",
       "                        <td id=\"T_24956976_aece_11ea_8351_54ee75726159row49_col1\" class=\"data row49 col1\" >650</td>\n",
       "            </tr>\n",
       "            <tr>\n",
       "                                <td id=\"T_24956976_aece_11ea_8351_54ee75726159row50_col0\" class=\"data row50 col0\" >New Prashanth Hotel</td>\n",
       "                        <td id=\"T_24956976_aece_11ea_8351_54ee75726159row50_col1\" class=\"data row50 col1\" >650</td>\n",
       "            </tr>\n",
       "            <tr>\n",
       "                                <td id=\"T_24956976_aece_11ea_8351_54ee75726159row51_col0\" class=\"data row51 col0\" >Paradise Premium</td>\n",
       "                        <td id=\"T_24956976_aece_11ea_8351_54ee75726159row51_col1\" class=\"data row51 col1\" >700</td>\n",
       "            </tr>\n",
       "            <tr>\n",
       "                                <td id=\"T_24956976_aece_11ea_8351_54ee75726159row52_col0\" class=\"data row52 col0\" >Vietnamese Kitchen</td>\n",
       "                        <td id=\"T_24956976_aece_11ea_8351_54ee75726159row52_col1\" class=\"data row52 col1\" >700</td>\n",
       "            </tr>\n",
       "            <tr>\n",
       "                                <td id=\"T_24956976_aece_11ea_8351_54ee75726159row53_col0\" class=\"data row53 col0\" >Vietnamese Kitchen</td>\n",
       "                        <td id=\"T_24956976_aece_11ea_8351_54ee75726159row53_col1\" class=\"data row53 col1\" >700</td>\n",
       "            </tr>\n",
       "            <tr>\n",
       "                                <td id=\"T_24956976_aece_11ea_8351_54ee75726159row54_col0\" class=\"data row54 col0\" >SLN Bar and Restaurant</td>\n",
       "                        <td id=\"T_24956976_aece_11ea_8351_54ee75726159row54_col1\" class=\"data row54 col1\" >700</td>\n",
       "            </tr>\n",
       "            <tr>\n",
       "                                <td id=\"T_24956976_aece_11ea_8351_54ee75726159row55_col0\" class=\"data row55 col0\" >Vaishali Deluxe</td>\n",
       "                        <td id=\"T_24956976_aece_11ea_8351_54ee75726159row55_col1\" class=\"data row55 col1\" >700</td>\n",
       "            </tr>\n",
       "            <tr>\n",
       "                                <td id=\"T_24956976_aece_11ea_8351_54ee75726159row56_col0\" class=\"data row56 col0\" >Green Gardenia</td>\n",
       "                        <td id=\"T_24956976_aece_11ea_8351_54ee75726159row56_col1\" class=\"data row56 col1\" >700</td>\n",
       "            </tr>\n",
       "            <tr>\n",
       "                                <td id=\"T_24956976_aece_11ea_8351_54ee75726159row57_col0\" class=\"data row57 col0\" >Vietnamese Kitchen</td>\n",
       "                        <td id=\"T_24956976_aece_11ea_8351_54ee75726159row57_col1\" class=\"data row57 col1\" >700</td>\n",
       "            </tr>\n",
       "            <tr>\n",
       "                                <td id=\"T_24956976_aece_11ea_8351_54ee75726159row58_col0\" class=\"data row58 col0\" >Vietnamese Kitchen</td>\n",
       "                        <td id=\"T_24956976_aece_11ea_8351_54ee75726159row58_col1\" class=\"data row58 col1\" >700</td>\n",
       "            </tr>\n",
       "            <tr>\n",
       "                                <td id=\"T_24956976_aece_11ea_8351_54ee75726159row59_col0\" class=\"data row59 col0\" >Green Gardenia</td>\n",
       "                        <td id=\"T_24956976_aece_11ea_8351_54ee75726159row59_col1\" class=\"data row59 col1\" >700</td>\n",
       "            </tr>\n",
       "            <tr>\n",
       "                                <td id=\"T_24956976_aece_11ea_8351_54ee75726159row60_col0\" class=\"data row60 col0\" >Vietnamese Kitchen</td>\n",
       "                        <td id=\"T_24956976_aece_11ea_8351_54ee75726159row60_col1\" class=\"data row60 col1\" >700</td>\n",
       "            </tr>\n",
       "            <tr>\n",
       "                                <td id=\"T_24956976_aece_11ea_8351_54ee75726159row61_col0\" class=\"data row61 col0\" >Green Gardenia</td>\n",
       "                        <td id=\"T_24956976_aece_11ea_8351_54ee75726159row61_col1\" class=\"data row61 col1\" >700</td>\n",
       "            </tr>\n",
       "            <tr>\n",
       "                                <td id=\"T_24956976_aece_11ea_8351_54ee75726159row62_col0\" class=\"data row62 col0\" >Paradise Premium</td>\n",
       "                        <td id=\"T_24956976_aece_11ea_8351_54ee75726159row62_col1\" class=\"data row62 col1\" >700</td>\n",
       "            </tr>\n",
       "            <tr>\n",
       "                                <td id=\"T_24956976_aece_11ea_8351_54ee75726159row63_col0\" class=\"data row63 col0\" >Vaishali Deluxe</td>\n",
       "                        <td id=\"T_24956976_aece_11ea_8351_54ee75726159row63_col1\" class=\"data row63 col1\" >700</td>\n",
       "            </tr>\n",
       "            <tr>\n",
       "                                <td id=\"T_24956976_aece_11ea_8351_54ee75726159row64_col0\" class=\"data row64 col0\" >Paradise Premium</td>\n",
       "                        <td id=\"T_24956976_aece_11ea_8351_54ee75726159row64_col1\" class=\"data row64 col1\" >700</td>\n",
       "            </tr>\n",
       "            <tr>\n",
       "                                <td id=\"T_24956976_aece_11ea_8351_54ee75726159row65_col0\" class=\"data row65 col0\" >The Krishna Grand</td>\n",
       "                        <td id=\"T_24956976_aece_11ea_8351_54ee75726159row65_col1\" class=\"data row65 col1\" >750</td>\n",
       "            </tr>\n",
       "            <tr>\n",
       "                                <td id=\"T_24956976_aece_11ea_8351_54ee75726159row66_col0\" class=\"data row66 col0\" >J Spice</td>\n",
       "                        <td id=\"T_24956976_aece_11ea_8351_54ee75726159row66_col1\" class=\"data row66 col1\" >750</td>\n",
       "            </tr>\n",
       "            <tr>\n",
       "                                <td id=\"T_24956976_aece_11ea_8351_54ee75726159row67_col0\" class=\"data row67 col0\" >The Krishna Grand</td>\n",
       "                        <td id=\"T_24956976_aece_11ea_8351_54ee75726159row67_col1\" class=\"data row67 col1\" >750</td>\n",
       "            </tr>\n",
       "            <tr>\n",
       "                                <td id=\"T_24956976_aece_11ea_8351_54ee75726159row68_col0\" class=\"data row68 col0\" >Pizza Hut</td>\n",
       "                        <td id=\"T_24956976_aece_11ea_8351_54ee75726159row68_col1\" class=\"data row68 col1\" >750</td>\n",
       "            </tr>\n",
       "            <tr>\n",
       "                                <td id=\"T_24956976_aece_11ea_8351_54ee75726159row69_col0\" class=\"data row69 col0\" >J Spice</td>\n",
       "                        <td id=\"T_24956976_aece_11ea_8351_54ee75726159row69_col1\" class=\"data row69 col1\" >750</td>\n",
       "            </tr>\n",
       "            <tr>\n",
       "                                <td id=\"T_24956976_aece_11ea_8351_54ee75726159row70_col0\" class=\"data row70 col0\" >Pizza Hut</td>\n",
       "                        <td id=\"T_24956976_aece_11ea_8351_54ee75726159row70_col1\" class=\"data row70 col1\" >750</td>\n",
       "            </tr>\n",
       "            <tr>\n",
       "                                <td id=\"T_24956976_aece_11ea_8351_54ee75726159row71_col0\" class=\"data row71 col0\" >J Spice</td>\n",
       "                        <td id=\"T_24956976_aece_11ea_8351_54ee75726159row71_col1\" class=\"data row71 col1\" >750</td>\n",
       "            </tr>\n",
       "            <tr>\n",
       "                                <td id=\"T_24956976_aece_11ea_8351_54ee75726159row72_col0\" class=\"data row72 col0\" >J Spice</td>\n",
       "                        <td id=\"T_24956976_aece_11ea_8351_54ee75726159row72_col1\" class=\"data row72 col1\" >750</td>\n",
       "            </tr>\n",
       "            <tr>\n",
       "                                <td id=\"T_24956976_aece_11ea_8351_54ee75726159row73_col0\" class=\"data row73 col0\" >The Krishna Grand</td>\n",
       "                        <td id=\"T_24956976_aece_11ea_8351_54ee75726159row73_col1\" class=\"data row73 col1\" >750</td>\n",
       "            </tr>\n",
       "            <tr>\n",
       "                                <td id=\"T_24956976_aece_11ea_8351_54ee75726159row74_col0\" class=\"data row74 col0\" >The Krishna Grand</td>\n",
       "                        <td id=\"T_24956976_aece_11ea_8351_54ee75726159row74_col1\" class=\"data row74 col1\" >750</td>\n",
       "            </tr>\n",
       "            <tr>\n",
       "                                <td id=\"T_24956976_aece_11ea_8351_54ee75726159row75_col0\" class=\"data row75 col0\" >Pizza Hut</td>\n",
       "                        <td id=\"T_24956976_aece_11ea_8351_54ee75726159row75_col1\" class=\"data row75 col1\" >750</td>\n",
       "            </tr>\n",
       "            <tr>\n",
       "                                <td id=\"T_24956976_aece_11ea_8351_54ee75726159row76_col0\" class=\"data row76 col0\" >J Spice</td>\n",
       "                        <td id=\"T_24956976_aece_11ea_8351_54ee75726159row76_col1\" class=\"data row76 col1\" >750</td>\n",
       "            </tr>\n",
       "            <tr>\n",
       "                                <td id=\"T_24956976_aece_11ea_8351_54ee75726159row77_col0\" class=\"data row77 col0\" >The Krishna Grand</td>\n",
       "                        <td id=\"T_24956976_aece_11ea_8351_54ee75726159row77_col1\" class=\"data row77 col1\" >750</td>\n",
       "            </tr>\n",
       "            <tr>\n",
       "                                <td id=\"T_24956976_aece_11ea_8351_54ee75726159row78_col0\" class=\"data row78 col0\" >J Spice</td>\n",
       "                        <td id=\"T_24956976_aece_11ea_8351_54ee75726159row78_col1\" class=\"data row78 col1\" >750</td>\n",
       "            </tr>\n",
       "            <tr>\n",
       "                                <td id=\"T_24956976_aece_11ea_8351_54ee75726159row79_col0\" class=\"data row79 col0\" >The Krishna Grand</td>\n",
       "                        <td id=\"T_24956976_aece_11ea_8351_54ee75726159row79_col1\" class=\"data row79 col1\" >750</td>\n",
       "            </tr>\n",
       "            <tr>\n",
       "                                <td id=\"T_24956976_aece_11ea_8351_54ee75726159row80_col0\" class=\"data row80 col0\" >The Krishna Grand</td>\n",
       "                        <td id=\"T_24956976_aece_11ea_8351_54ee75726159row80_col1\" class=\"data row80 col1\" >750</td>\n",
       "            </tr>\n",
       "            <tr>\n",
       "                                <td id=\"T_24956976_aece_11ea_8351_54ee75726159row81_col0\" class=\"data row81 col0\" >The Pizzeria</td>\n",
       "                        <td id=\"T_24956976_aece_11ea_8351_54ee75726159row81_col1\" class=\"data row81 col1\" >800</td>\n",
       "            </tr>\n",
       "            <tr>\n",
       "                                <td id=\"T_24956976_aece_11ea_8351_54ee75726159row82_col0\" class=\"data row82 col0\" >Hara Fine Dine</td>\n",
       "                        <td id=\"T_24956976_aece_11ea_8351_54ee75726159row82_col1\" class=\"data row82 col1\" >800</td>\n",
       "            </tr>\n",
       "            <tr>\n",
       "                                <td id=\"T_24956976_aece_11ea_8351_54ee75726159row83_col0\" class=\"data row83 col0\" >Hara Fine Dine</td>\n",
       "                        <td id=\"T_24956976_aece_11ea_8351_54ee75726159row83_col1\" class=\"data row83 col1\" >800</td>\n",
       "            </tr>\n",
       "            <tr>\n",
       "                                <td id=\"T_24956976_aece_11ea_8351_54ee75726159row84_col0\" class=\"data row84 col0\" >My Tea House</td>\n",
       "                        <td id=\"T_24956976_aece_11ea_8351_54ee75726159row84_col1\" class=\"data row84 col1\" >800</td>\n",
       "            </tr>\n",
       "            <tr>\n",
       "                                <td id=\"T_24956976_aece_11ea_8351_54ee75726159row85_col0\" class=\"data row85 col0\" >Peppy Peppers</td>\n",
       "                        <td id=\"T_24956976_aece_11ea_8351_54ee75726159row85_col1\" class=\"data row85 col1\" >800</td>\n",
       "            </tr>\n",
       "            <tr>\n",
       "                                <td id=\"T_24956976_aece_11ea_8351_54ee75726159row86_col0\" class=\"data row86 col0\" >Vinny's</td>\n",
       "                        <td id=\"T_24956976_aece_11ea_8351_54ee75726159row86_col1\" class=\"data row86 col1\" >800</td>\n",
       "            </tr>\n",
       "            <tr>\n",
       "                                <td id=\"T_24956976_aece_11ea_8351_54ee75726159row87_col0\" class=\"data row87 col0\" >Wamama</td>\n",
       "                        <td id=\"T_24956976_aece_11ea_8351_54ee75726159row87_col1\" class=\"data row87 col1\" >800</td>\n",
       "            </tr>\n",
       "            <tr>\n",
       "                                <td id=\"T_24956976_aece_11ea_8351_54ee75726159row88_col0\" class=\"data row88 col0\" >Jalsa</td>\n",
       "                        <td id=\"T_24956976_aece_11ea_8351_54ee75726159row88_col1\" class=\"data row88 col1\" >800</td>\n",
       "            </tr>\n",
       "            <tr>\n",
       "                                <td id=\"T_24956976_aece_11ea_8351_54ee75726159row89_col0\" class=\"data row89 col0\" >Peppy Peppers</td>\n",
       "                        <td id=\"T_24956976_aece_11ea_8351_54ee75726159row89_col1\" class=\"data row89 col1\" >800</td>\n",
       "            </tr>\n",
       "            <tr>\n",
       "                                <td id=\"T_24956976_aece_11ea_8351_54ee75726159row90_col0\" class=\"data row90 col0\" >Hara Fine Dine</td>\n",
       "                        <td id=\"T_24956976_aece_11ea_8351_54ee75726159row90_col1\" class=\"data row90 col1\" >800</td>\n",
       "            </tr>\n",
       "            <tr>\n",
       "                                <td id=\"T_24956976_aece_11ea_8351_54ee75726159row91_col0\" class=\"data row91 col0\" >My Tea House</td>\n",
       "                        <td id=\"T_24956976_aece_11ea_8351_54ee75726159row91_col1\" class=\"data row91 col1\" >800</td>\n",
       "            </tr>\n",
       "            <tr>\n",
       "                                <td id=\"T_24956976_aece_11ea_8351_54ee75726159row92_col0\" class=\"data row92 col0\" >My Tea House</td>\n",
       "                        <td id=\"T_24956976_aece_11ea_8351_54ee75726159row92_col1\" class=\"data row92 col1\" >800</td>\n",
       "            </tr>\n",
       "            <tr>\n",
       "                                <td id=\"T_24956976_aece_11ea_8351_54ee75726159row93_col0\" class=\"data row93 col0\" >Jalsa</td>\n",
       "                        <td id=\"T_24956976_aece_11ea_8351_54ee75726159row93_col1\" class=\"data row93 col1\" >800</td>\n",
       "            </tr>\n",
       "            <tr>\n",
       "                                <td id=\"T_24956976_aece_11ea_8351_54ee75726159row94_col0\" class=\"data row94 col0\" >Jalsa</td>\n",
       "                        <td id=\"T_24956976_aece_11ea_8351_54ee75726159row94_col1\" class=\"data row94 col1\" >800</td>\n",
       "            </tr>\n",
       "            <tr>\n",
       "                                <td id=\"T_24956976_aece_11ea_8351_54ee75726159row95_col0\" class=\"data row95 col0\" >Thamboola</td>\n",
       "                        <td id=\"T_24956976_aece_11ea_8351_54ee75726159row95_col1\" class=\"data row95 col1\" >800</td>\n",
       "            </tr>\n",
       "            <tr>\n",
       "                                <td id=\"T_24956976_aece_11ea_8351_54ee75726159row96_col0\" class=\"data row96 col0\" >Wamama</td>\n",
       "                        <td id=\"T_24956976_aece_11ea_8351_54ee75726159row96_col1\" class=\"data row96 col1\" >800</td>\n",
       "            </tr>\n",
       "            <tr>\n",
       "                                <td id=\"T_24956976_aece_11ea_8351_54ee75726159row97_col0\" class=\"data row97 col0\" >Vinny's</td>\n",
       "                        <td id=\"T_24956976_aece_11ea_8351_54ee75726159row97_col1\" class=\"data row97 col1\" >800</td>\n",
       "            </tr>\n",
       "            <tr>\n",
       "                                <td id=\"T_24956976_aece_11ea_8351_54ee75726159row98_col0\" class=\"data row98 col0\" >The Pizzeria</td>\n",
       "                        <td id=\"T_24956976_aece_11ea_8351_54ee75726159row98_col1\" class=\"data row98 col1\" >800</td>\n",
       "            </tr>\n",
       "            <tr>\n",
       "                                <td id=\"T_24956976_aece_11ea_8351_54ee75726159row99_col0\" class=\"data row99 col0\" >Jalsa</td>\n",
       "                        <td id=\"T_24956976_aece_11ea_8351_54ee75726159row99_col1\" class=\"data row99 col1\" >800</td>\n",
       "            </tr>\n",
       "            <tr>\n",
       "                                <td id=\"T_24956976_aece_11ea_8351_54ee75726159row100_col0\" class=\"data row100 col0\" >The Pizzeria</td>\n",
       "                        <td id=\"T_24956976_aece_11ea_8351_54ee75726159row100_col1\" class=\"data row100 col1\" >800</td>\n",
       "            </tr>\n",
       "            <tr>\n",
       "                                <td id=\"T_24956976_aece_11ea_8351_54ee75726159row101_col0\" class=\"data row101 col0\" >Peppy Peppers</td>\n",
       "                        <td id=\"T_24956976_aece_11ea_8351_54ee75726159row101_col1\" class=\"data row101 col1\" >800</td>\n",
       "            </tr>\n",
       "            <tr>\n",
       "                                <td id=\"T_24956976_aece_11ea_8351_54ee75726159row102_col0\" class=\"data row102 col0\" >Thamboola</td>\n",
       "                        <td id=\"T_24956976_aece_11ea_8351_54ee75726159row102_col1\" class=\"data row102 col1\" >800</td>\n",
       "            </tr>\n",
       "            <tr>\n",
       "                                <td id=\"T_24956976_aece_11ea_8351_54ee75726159row103_col0\" class=\"data row103 col0\" >Peppy Peppers</td>\n",
       "                        <td id=\"T_24956976_aece_11ea_8351_54ee75726159row103_col1\" class=\"data row103 col1\" >800</td>\n",
       "            </tr>\n",
       "            <tr>\n",
       "                                <td id=\"T_24956976_aece_11ea_8351_54ee75726159row104_col0\" class=\"data row104 col0\" >Spice Elephant</td>\n",
       "                        <td id=\"T_24956976_aece_11ea_8351_54ee75726159row104_col1\" class=\"data row104 col1\" >800</td>\n",
       "            </tr>\n",
       "            <tr>\n",
       "                                <td id=\"T_24956976_aece_11ea_8351_54ee75726159row105_col0\" class=\"data row105 col0\" >Vinny's</td>\n",
       "                        <td id=\"T_24956976_aece_11ea_8351_54ee75726159row105_col1\" class=\"data row105 col1\" >800</td>\n",
       "            </tr>\n",
       "            <tr>\n",
       "                                <td id=\"T_24956976_aece_11ea_8351_54ee75726159row106_col0\" class=\"data row106 col0\" >Jalsa</td>\n",
       "                        <td id=\"T_24956976_aece_11ea_8351_54ee75726159row106_col1\" class=\"data row106 col1\" >800</td>\n",
       "            </tr>\n",
       "            <tr>\n",
       "                                <td id=\"T_24956976_aece_11ea_8351_54ee75726159row107_col0\" class=\"data row107 col0\" >Wamama</td>\n",
       "                        <td id=\"T_24956976_aece_11ea_8351_54ee75726159row107_col1\" class=\"data row107 col1\" >800</td>\n",
       "            </tr>\n",
       "            <tr>\n",
       "                                <td id=\"T_24956976_aece_11ea_8351_54ee75726159row108_col0\" class=\"data row108 col0\" >Vinny's</td>\n",
       "                        <td id=\"T_24956976_aece_11ea_8351_54ee75726159row108_col1\" class=\"data row108 col1\" >800</td>\n",
       "            </tr>\n",
       "            <tr>\n",
       "                                <td id=\"T_24956976_aece_11ea_8351_54ee75726159row109_col0\" class=\"data row109 col0\" >Jalsa</td>\n",
       "                        <td id=\"T_24956976_aece_11ea_8351_54ee75726159row109_col1\" class=\"data row109 col1\" >800</td>\n",
       "            </tr>\n",
       "            <tr>\n",
       "                                <td id=\"T_24956976_aece_11ea_8351_54ee75726159row110_col0\" class=\"data row110 col0\" >Hara Fine Dine</td>\n",
       "                        <td id=\"T_24956976_aece_11ea_8351_54ee75726159row110_col1\" class=\"data row110 col1\" >800</td>\n",
       "            </tr>\n",
       "            <tr>\n",
       "                                <td id=\"T_24956976_aece_11ea_8351_54ee75726159row111_col0\" class=\"data row111 col0\" >The Pizzeria</td>\n",
       "                        <td id=\"T_24956976_aece_11ea_8351_54ee75726159row111_col1\" class=\"data row111 col1\" >800</td>\n",
       "            </tr>\n",
       "            <tr>\n",
       "                                <td id=\"T_24956976_aece_11ea_8351_54ee75726159row112_col0\" class=\"data row112 col0\" >Spice Elephant</td>\n",
       "                        <td id=\"T_24956976_aece_11ea_8351_54ee75726159row112_col1\" class=\"data row112 col1\" >800</td>\n",
       "            </tr>\n",
       "            <tr>\n",
       "                                <td id=\"T_24956976_aece_11ea_8351_54ee75726159row113_col0\" class=\"data row113 col0\" >Thamboola</td>\n",
       "                        <td id=\"T_24956976_aece_11ea_8351_54ee75726159row113_col1\" class=\"data row113 col1\" >800</td>\n",
       "            </tr>\n",
       "            <tr>\n",
       "                                <td id=\"T_24956976_aece_11ea_8351_54ee75726159row114_col0\" class=\"data row114 col0\" >Peppy Peppers</td>\n",
       "                        <td id=\"T_24956976_aece_11ea_8351_54ee75726159row114_col1\" class=\"data row114 col1\" >800</td>\n",
       "            </tr>\n",
       "            <tr>\n",
       "                                <td id=\"T_24956976_aece_11ea_8351_54ee75726159row115_col0\" class=\"data row115 col0\" >Wamama</td>\n",
       "                        <td id=\"T_24956976_aece_11ea_8351_54ee75726159row115_col1\" class=\"data row115 col1\" >800</td>\n",
       "            </tr>\n",
       "            <tr>\n",
       "                                <td id=\"T_24956976_aece_11ea_8351_54ee75726159row116_col0\" class=\"data row116 col0\" >Spice Elephant</td>\n",
       "                        <td id=\"T_24956976_aece_11ea_8351_54ee75726159row116_col1\" class=\"data row116 col1\" >800</td>\n",
       "            </tr>\n",
       "            <tr>\n",
       "                                <td id=\"T_24956976_aece_11ea_8351_54ee75726159row117_col0\" class=\"data row117 col0\" >Thamboola</td>\n",
       "                        <td id=\"T_24956976_aece_11ea_8351_54ee75726159row117_col1\" class=\"data row117 col1\" >800</td>\n",
       "            </tr>\n",
       "            <tr>\n",
       "                                <td id=\"T_24956976_aece_11ea_8351_54ee75726159row118_col0\" class=\"data row118 col0\" >The Pizzeria</td>\n",
       "                        <td id=\"T_24956976_aece_11ea_8351_54ee75726159row118_col1\" class=\"data row118 col1\" >800</td>\n",
       "            </tr>\n",
       "            <tr>\n",
       "                                <td id=\"T_24956976_aece_11ea_8351_54ee75726159row119_col0\" class=\"data row119 col0\" >My Tea House</td>\n",
       "                        <td id=\"T_24956976_aece_11ea_8351_54ee75726159row119_col1\" class=\"data row119 col1\" >800</td>\n",
       "            </tr>\n",
       "            <tr>\n",
       "                                <td id=\"T_24956976_aece_11ea_8351_54ee75726159row120_col0\" class=\"data row120 col0\" >Hara Fine Dine</td>\n",
       "                        <td id=\"T_24956976_aece_11ea_8351_54ee75726159row120_col1\" class=\"data row120 col1\" >800</td>\n",
       "            </tr>\n",
       "            <tr>\n",
       "                                <td id=\"T_24956976_aece_11ea_8351_54ee75726159row121_col0\" class=\"data row121 col0\" >Jalsa</td>\n",
       "                        <td id=\"T_24956976_aece_11ea_8351_54ee75726159row121_col1\" class=\"data row121 col1\" >800</td>\n",
       "            </tr>\n",
       "            <tr>\n",
       "                                <td id=\"T_24956976_aece_11ea_8351_54ee75726159row122_col0\" class=\"data row122 col0\" >Jalsa</td>\n",
       "                        <td id=\"T_24956976_aece_11ea_8351_54ee75726159row122_col1\" class=\"data row122 col1\" >800</td>\n",
       "            </tr>\n",
       "            <tr>\n",
       "                                <td id=\"T_24956976_aece_11ea_8351_54ee75726159row123_col0\" class=\"data row123 col0\" >Spice Elephant</td>\n",
       "                        <td id=\"T_24956976_aece_11ea_8351_54ee75726159row123_col1\" class=\"data row123 col1\" >800</td>\n",
       "            </tr>\n",
       "            <tr>\n",
       "                                <td id=\"T_24956976_aece_11ea_8351_54ee75726159row124_col0\" class=\"data row124 col0\" >Jalsa</td>\n",
       "                        <td id=\"T_24956976_aece_11ea_8351_54ee75726159row124_col1\" class=\"data row124 col1\" >800</td>\n",
       "            </tr>\n",
       "            <tr>\n",
       "                                <td id=\"T_24956976_aece_11ea_8351_54ee75726159row125_col0\" class=\"data row125 col0\" >Peppy Peppers</td>\n",
       "                        <td id=\"T_24956976_aece_11ea_8351_54ee75726159row125_col1\" class=\"data row125 col1\" >800</td>\n",
       "            </tr>\n",
       "            <tr>\n",
       "                                <td id=\"T_24956976_aece_11ea_8351_54ee75726159row126_col0\" class=\"data row126 col0\" >Thamboola</td>\n",
       "                        <td id=\"T_24956976_aece_11ea_8351_54ee75726159row126_col1\" class=\"data row126 col1\" >800</td>\n",
       "            </tr>\n",
       "            <tr>\n",
       "                                <td id=\"T_24956976_aece_11ea_8351_54ee75726159row127_col0\" class=\"data row127 col0\" >Wamama</td>\n",
       "                        <td id=\"T_24956976_aece_11ea_8351_54ee75726159row127_col1\" class=\"data row127 col1\" >800</td>\n",
       "            </tr>\n",
       "            <tr>\n",
       "                                <td id=\"T_24956976_aece_11ea_8351_54ee75726159row128_col0\" class=\"data row128 col0\" >My Tea House</td>\n",
       "                        <td id=\"T_24956976_aece_11ea_8351_54ee75726159row128_col1\" class=\"data row128 col1\" >800</td>\n",
       "            </tr>\n",
       "            <tr>\n",
       "                                <td id=\"T_24956976_aece_11ea_8351_54ee75726159row129_col0\" class=\"data row129 col0\" >Vinny's</td>\n",
       "                        <td id=\"T_24956976_aece_11ea_8351_54ee75726159row129_col1\" class=\"data row129 col1\" >800</td>\n",
       "            </tr>\n",
       "            <tr>\n",
       "                                <td id=\"T_24956976_aece_11ea_8351_54ee75726159row130_col0\" class=\"data row130 col0\" >Vinny's</td>\n",
       "                        <td id=\"T_24956976_aece_11ea_8351_54ee75726159row130_col1\" class=\"data row130 col1\" >800</td>\n",
       "            </tr>\n",
       "            <tr>\n",
       "                                <td id=\"T_24956976_aece_11ea_8351_54ee75726159row131_col0\" class=\"data row131 col0\" >Wamama</td>\n",
       "                        <td id=\"T_24956976_aece_11ea_8351_54ee75726159row131_col1\" class=\"data row131 col1\" >800</td>\n",
       "            </tr>\n",
       "            <tr>\n",
       "                                <td id=\"T_24956976_aece_11ea_8351_54ee75726159row132_col0\" class=\"data row132 col0\" >Beijing Bites</td>\n",
       "                        <td id=\"T_24956976_aece_11ea_8351_54ee75726159row132_col1\" class=\"data row132 col1\" >850</td>\n",
       "            </tr>\n",
       "            <tr>\n",
       "                                <td id=\"T_24956976_aece_11ea_8351_54ee75726159row133_col0\" class=\"data row133 col0\" >1947</td>\n",
       "                        <td id=\"T_24956976_aece_11ea_8351_54ee75726159row133_col1\" class=\"data row133 col1\" >850</td>\n",
       "            </tr>\n",
       "            <tr>\n",
       "                                <td id=\"T_24956976_aece_11ea_8351_54ee75726159row134_col0\" class=\"data row134 col0\" >Beijing Bites</td>\n",
       "                        <td id=\"T_24956976_aece_11ea_8351_54ee75726159row134_col1\" class=\"data row134 col1\" >850</td>\n",
       "            </tr>\n",
       "            <tr>\n",
       "                                <td id=\"T_24956976_aece_11ea_8351_54ee75726159row135_col0\" class=\"data row135 col0\" >1947</td>\n",
       "                        <td id=\"T_24956976_aece_11ea_8351_54ee75726159row135_col1\" class=\"data row135 col1\" >850</td>\n",
       "            </tr>\n",
       "            <tr>\n",
       "                                <td id=\"T_24956976_aece_11ea_8351_54ee75726159row136_col0\" class=\"data row136 col0\" >Beijing Bites</td>\n",
       "                        <td id=\"T_24956976_aece_11ea_8351_54ee75726159row136_col1\" class=\"data row136 col1\" >850</td>\n",
       "            </tr>\n",
       "            <tr>\n",
       "                                <td id=\"T_24956976_aece_11ea_8351_54ee75726159row137_col0\" class=\"data row137 col0\" >Chung Wah</td>\n",
       "                        <td id=\"T_24956976_aece_11ea_8351_54ee75726159row137_col1\" class=\"data row137 col1\" >900</td>\n",
       "            </tr>\n",
       "            <tr>\n",
       "                                <td id=\"T_24956976_aece_11ea_8351_54ee75726159row138_col0\" class=\"data row138 col0\" >Chung Wah</td>\n",
       "                        <td id=\"T_24956976_aece_11ea_8351_54ee75726159row138_col1\" class=\"data row138 col1\" >900</td>\n",
       "            </tr>\n",
       "            <tr>\n",
       "                                <td id=\"T_24956976_aece_11ea_8351_54ee75726159row139_col0\" class=\"data row139 col0\" >Ayda Persian Kitchen</td>\n",
       "                        <td id=\"T_24956976_aece_11ea_8351_54ee75726159row139_col1\" class=\"data row139 col1\" >950</td>\n",
       "            </tr>\n",
       "            <tr>\n",
       "                                <td id=\"T_24956976_aece_11ea_8351_54ee75726159row140_col0\" class=\"data row140 col0\" >Ayda Persian Kitchen</td>\n",
       "                        <td id=\"T_24956976_aece_11ea_8351_54ee75726159row140_col1\" class=\"data row140 col1\" >950</td>\n",
       "            </tr>\n",
       "            <tr>\n",
       "                                <td id=\"T_24956976_aece_11ea_8351_54ee75726159row141_col0\" class=\"data row141 col0\" >Ayda Persian Kitchen</td>\n",
       "                        <td id=\"T_24956976_aece_11ea_8351_54ee75726159row141_col1\" class=\"data row141 col1\" >950</td>\n",
       "            </tr>\n",
       "            <tr>\n",
       "                                <td id=\"T_24956976_aece_11ea_8351_54ee75726159row142_col0\" class=\"data row142 col0\" >Ayda Persian Kitchen</td>\n",
       "                        <td id=\"T_24956976_aece_11ea_8351_54ee75726159row142_col1\" class=\"data row142 col1\" >950</td>\n",
       "            </tr>\n",
       "            <tr>\n",
       "                                <td id=\"T_24956976_aece_11ea_8351_54ee75726159row143_col0\" class=\"data row143 col0\" >Sea Spice by 7 Star</td>\n",
       "                        <td id=\"T_24956976_aece_11ea_8351_54ee75726159row143_col1\" class=\"data row143 col1\" >1200</td>\n",
       "            </tr>\n",
       "            <tr>\n",
       "                                <td id=\"T_24956976_aece_11ea_8351_54ee75726159row144_col0\" class=\"data row144 col0\" >Sea Spice by 7 Star</td>\n",
       "                        <td id=\"T_24956976_aece_11ea_8351_54ee75726159row144_col1\" class=\"data row144 col1\" >1200</td>\n",
       "            </tr>\n",
       "            <tr>\n",
       "                                <td id=\"T_24956976_aece_11ea_8351_54ee75726159row145_col0\" class=\"data row145 col0\" >Sea Spice by 7 Star</td>\n",
       "                        <td id=\"T_24956976_aece_11ea_8351_54ee75726159row145_col1\" class=\"data row145 col1\" >1200</td>\n",
       "            </tr>\n",
       "            <tr>\n",
       "                                <td id=\"T_24956976_aece_11ea_8351_54ee75726159row146_col0\" class=\"data row146 col0\" >Sea Spice by 7 Star</td>\n",
       "                        <td id=\"T_24956976_aece_11ea_8351_54ee75726159row146_col1\" class=\"data row146 col1\" >1200</td>\n",
       "            </tr>\n",
       "            <tr>\n",
       "                                <td id=\"T_24956976_aece_11ea_8351_54ee75726159row147_col0\" class=\"data row147 col0\" >Sea Spice by 7 Star</td>\n",
       "                        <td id=\"T_24956976_aece_11ea_8351_54ee75726159row147_col1\" class=\"data row147 col1\" >1200</td>\n",
       "            </tr>\n",
       "            <tr>\n",
       "                                <td id=\"T_24956976_aece_11ea_8351_54ee75726159row148_col0\" class=\"data row148 col0\" >Sea Spice by 7 Star</td>\n",
       "                        <td id=\"T_24956976_aece_11ea_8351_54ee75726159row148_col1\" class=\"data row148 col1\" >1200</td>\n",
       "            </tr>\n",
       "    </tbody></table>"
      ],
      "text/plain": [
       "<pandas.io.formats.style.Styler at 0x234ffc7e438>"
      ]
     },
     "execution_count": 34,
     "metadata": {},
     "output_type": "execute_result"
    }
   ],
   "source": [
    "loc_based_resttype(loc, restype).style.hide_index()"
   ]
  },
  {
   "cell_type": "markdown",
   "metadata": {},
   "source": [
    "Conlusion:"
   ]
  },
  {
   "cell_type": "markdown",
   "metadata": {},
   "source": [
    "Here we did basic analysis on the restaurants at Bangalore using Zomato data from Kaggle. Data can be viewed at https://www.kaggle.com/himanshupoddar/zomato-bangalore-restaurants"
   ]
  }
 ],
 "metadata": {
  "kernelspec": {
   "display_name": "Python 3",
   "language": "python",
   "name": "python3"
  },
  "language_info": {
   "codemirror_mode": {
    "name": "ipython",
    "version": 3
   },
   "file_extension": ".py",
   "mimetype": "text/x-python",
   "name": "python",
   "nbconvert_exporter": "python",
   "pygments_lexer": "ipython3",
   "version": "3.7.3"
  }
 },
 "nbformat": 4,
 "nbformat_minor": 2
}
